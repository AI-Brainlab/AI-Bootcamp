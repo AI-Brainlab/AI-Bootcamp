{
 "cells": [
  {
   "cell_type": "markdown",
   "id": "8a37a3b0",
   "metadata": {},
   "source": [
    "# 04 - Underwriting Workflow"
   ]
  },
  {
   "cell_type": "code",
   "execution_count": 1,
   "id": "5a673c2c",
   "metadata": {},
   "outputs": [],
   "source": [
    "import os\n",
    "from dotenv import load_dotenv\n",
    "\n",
    "# Step 1: Load environment variables from .env file\n",
    "load_dotenv()\n",
    "\n",
    "# Step 2: Retrieve Azure OpenAI environment variables\n",
    "AZURE_OPENAI_ENDPOINT = os.getenv(\"AZURE_OPENAI_ENDPOINT\")\n",
    "AZURE_OPENAI_API_KEY = os.getenv(\"AZURE_OPENAI_API_KEY\")\n",
    "OPENAI_API_VERSION = os.getenv(\"OPENAI_API_VERSION\")\n",
    "\n",
    "from langchain_openai import AzureChatOpenAI\n",
    "\n",
    "llm = AzureChatOpenAI(\n",
    "    azure_deployment=\"gpt-4o-mini\",  # Your Azure deployment\n",
    "    api_version=OPENAI_API_VERSION,  # Your API version\n",
    "    api_key=AZURE_OPENAI_API_KEY,\n",
    "    azure_endpoint=AZURE_OPENAI_ENDPOINT,\n",
    "    temperature=0,\n",
    "    max_tokens=None,\n",
    "    timeout=None,\n",
    "    max_retries=2,\n",
    ")\n"
   ]
  },
  {
   "cell_type": "code",
   "execution_count": 2,
   "id": "584be20f",
   "metadata": {},
   "outputs": [],
   "source": [
    "from typing import Optional\n",
    "from pydantic import BaseModel, Field\n",
    "\n",
    "#input \n",
    "class ApplicantInfo(BaseModel):\n",
    "    \"\"\"Information about the insurance applicant.\"\"\"\n",
    "    age: str \n",
    "    home_value: str \n",
    "    home_type: str \n",
    "    home_location: str \n",
    "    natural_disaster_risk: str \n",
    "    building_material: str \n",
    "    construction_year: str \n",
    "    employment_status: str \n",
    "    annual_income: str\n",
    "\n",
    "#output\n",
    "class UnderwritingDecision(BaseModel):\n",
    "    \"\"\"Underwriting decision for the applicant.\"\"\"\n",
    "    approved: bool\n",
    "    premium: Optional[float] = None\n",
    "    notes: Optional[str] = Field(description=\"Summary Decision\")"
   ]
  },
  {
   "cell_type": "code",
   "execution_count": 3,
   "id": "e846fd8c",
   "metadata": {},
   "outputs": [],
   "source": [
    "from langgraph.graph import StateGraph, START, END\n",
    "from typing import TypedDict\n",
    "#state\n",
    "class UnderwritingState(TypedDict):\n",
    "    applicant_info: ApplicantInfo\n",
    "    evaluate_info : dict \n",
    "    premium_calculation : dict\n",
    "    underwriting_decision: Optional[UnderwritingDecision]\n",
    "\n",
    "graph_builder = StateGraph(UnderwritingState)"
   ]
  },
  {
   "cell_type": "code",
   "execution_count": 4,
   "id": "28def2ba",
   "metadata": {},
   "outputs": [],
   "source": [
    "from langchain.prompts import PromptTemplate\n",
    "from langchain_core.output_parsers import JsonOutputParser\n",
    "\n",
    "# Define the updated risk assessment prompt with more detailed factors\n",
    "risk_assessment_prompt = \"\"\"\n",
    "You are a home risk assessment expert who calculates a risk score based on the applicant's details. \n",
    "Please calculate the risk score based on the following factors:\n",
    "\n",
    "1. **Age**:\n",
    "- 25-30 years: +0.5\n",
    "- 30-40 years: +1  \n",
    "- 40-50 years: +2  \n",
    "- 50+ years: +3  \n",
    "\n",
    "2. **Home Location**:  \n",
    "- High-risk areas (e.g., flood zones, earthquake-prone areas): +4  \n",
    "- Moderate-risk areas (e.g., urban centers, near rivers): +2  \n",
    "- Low-risk areas (e.g., safe zones with no history of natural disasters): +1  \n",
    "\n",
    "3. **Home Value**:  \n",
    "- Home value over 10,000,000 THB: +3  \n",
    "- Home value between 5,000,000-10,000,000 THB: +2  \n",
    "- Home value below 5,000,000 THB: +1  \n",
    "\n",
    "4. **Home Type**:  \n",
    "- Condo: +1  \n",
    "- Detached House: +2  \n",
    "- Apartment: +1  \n",
    "\n",
    "5. **Building Material**:  \n",
    "- Concrete or Steel: +1  \n",
    "- Wood or Other flammable materials: +3  \n",
    "\n",
    "6. **Construction Year**:  \n",
    "- Built before 1980: +3  \n",
    "- Built between 1980-2000: +2  \n",
    "- Built after 2000: +1  \n",
    "\n",
    "7. **Natural Disaster Risk**:  \n",
    "- High risk (flood, earthquake, etc.): +3  \n",
    "- Moderate risk: +2  \n",
    "- Low risk: +1  \n",
    "\n",
    "8. **Employment Status**:  \n",
    "- Employed: +1  \n",
    "- Self-employed: +2  \n",
    "- Unemployed: +3  \n",
    "\n",
    "9. **Annual Income**:  \n",
    "- Over 100,000 THB: +1  \n",
    "- Between 50,000-100,000 THB: +2  \n",
    "- Below 50,000 THB: +3  \n",
    "\n",
    "**Final Calculation**:  \n",
    "- Add the risk points from each category to get the final risk score. The higher the score, the higher the risk.\n",
    "\n",
    "User information :\n",
    "- Age: {age}\n",
    "- Home Value: {home_value}\n",
    "- Home Type: {home_type}\n",
    "- Location: {home_location}\n",
    "- Disaster Risk: {natural_disaster_risk}\n",
    "- Building Material: {building_material}\n",
    "- Construction Year: {construction_year}\n",
    "- Employment Status: {employment_status} \n",
    "- Annual Come: {annual_income} \n",
    "\n",
    "Return a JSON object matching OutcomeApplicantInfo schema.\n",
    "{format_instructions}\n",
    "\"\"\"\n",
    "\n",
    "# Define the data structure for applicant information.\n",
    "class OutcomeApplicantInfo(BaseModel):\n",
    "    reasoning : str = Field(description=\"Provide details of calculation\")\n",
    "    risk_score: Optional[float] = Field(description=\"Total risk score\")\n",
    "\n",
    "# Set up the JsonOutputParser and the prompt template.\n",
    "parser = JsonOutputParser(pydantic_object=OutcomeApplicantInfo)\n",
    "\n",
    "# Create the prompt template\n",
    "risk_assessment_prompt = PromptTemplate(\n",
    "    input_variables=['age','home_value','home_type','home_location','natural_disaster_risk','building_material','construction_year','employment_status','annual_income'],\n",
    "    template=risk_assessment_prompt,\n",
    "    partial_variables={\"format_instructions\": parser.get_format_instructions()},\n",
    ")\n",
    "\n",
    "# Use LangChain to generate the risk assessment\n",
    "llm_risk = risk_assessment_prompt | llm | parser\n",
    "\n",
    "def evaluate_risk(state: UnderwritingState):\n",
    "    print('--evaluate_risk using LLM--')\n",
    "    #CODE HERE\n",
    "    \n",
    "    result = llm_risk.invoke({\n",
    "        'age': state['applicant_info']['age'],\n",
    "        'home_value': state['applicant_info']['home_value'],\n",
    "        'home_type': state['applicant_info']['home_type'],\n",
    "        'home_location': state['applicant_info']['home_location'],\n",
    "        'natural_disaster_risk': state['applicant_info']['natural_disaster_risk'],\n",
    "        'building_material': state['applicant_info']['building_material'],\n",
    "        'construction_year': state['applicant_info']['construction_year'],\n",
    "        'employment_status': state['applicant_info']['employment_status'],\n",
    "        'annual_income': state['applicant_info']['annual_income']\n",
    "    })\n",
    "    state['evaluate_info'] = result \n",
    "    return state"
   ]
  },
  {
   "cell_type": "code",
   "execution_count": 5,
   "id": "ace3d229",
   "metadata": {},
   "outputs": [],
   "source": [
    "# # Sample applicant information\n",
    "# applicant_info = {\n",
    "#     'name': \"Jane Doe\",\n",
    "#     'age': 30,\n",
    "#     'home_value': 5000000.0,  # Estimated value of the home in Thai Baht\n",
    "#     'home_type': \"Condo\",\n",
    "#     'home_location': \"Thonglor, Bangkok, Thailand\",\n",
    "#     'natural_disaster_risk': \"Low\",\n",
    "#     'building_material': \"Concrete\",\n",
    "#     'construction_year': 2018,\n",
    "#     'employment_status': \"Employed\",\n",
    "#     'annual_income': 60000.0\n",
    "# }\n",
    "\n",
    "\n",
    "# llm_risk.invoke(applicant_info)"
   ]
  },
  {
   "cell_type": "code",
   "execution_count": 6,
   "id": "00b42873",
   "metadata": {},
   "outputs": [],
   "source": [
    "# Define the data structure for applicant information.\n",
    "class OutcomePremiumInfo(BaseModel):\n",
    "    reasoning : str = Field(description=\"Provide details of calculation\")\n",
    "    final_premium: float = Field(description=\"Final premium price\")\n",
    "\n",
    "# Set up the JsonOutputParser and the prompt template.\n",
    "parser = JsonOutputParser(pydantic_object=OutcomePremiumInfo)\n",
    "\n",
    "premium_template = \"\"\"\n",
    "You are a mathematician who specializes in insurance pricing and premium calculations. \n",
    "Your task is to calculate the premium price based on an applicant's risk score.\n",
    "\n",
    "Applicant's risk score : {risk_score}\n",
    "Base Premium : {base_premium}\n",
    "premium = base premium * (1 + risk score * 0.1)\n",
    "\n",
    "Return a JSON object matching OutcomePremiumInfo schema.\n",
    "{format_instructions}\n",
    "\"\"\"\n",
    "\n",
    "# Create the prompt template\n",
    "premium_prompt = PromptTemplate(\n",
    "    input_variables=['risk_score','base_premium'],\n",
    "    template=premium_template,\n",
    "    partial_variables={\"format_instructions\": parser.get_format_instructions()},\n",
    ")\n",
    "\n",
    "# Use LangChain to generate the risk assessment\n",
    "llm_premium = premium_prompt | llm | parser\n",
    "\n",
    "def determine_premium(state: UnderwritingState):\n",
    "    print('--determine_premium--')\n",
    "    #CODE HERE\n",
    "    base_premium = \"500\" #assume\n",
    "    result = llm_premium.invoke({\n",
    "        \"risk_score\":state[\"evaluate_info\"]['risk_score'], \n",
    "        \"base_premium\": base_premium\n",
    "    })\n",
    "    state[\"premium_calculation\"] = result\n",
    "    return state"
   ]
  },
  {
   "cell_type": "code",
   "execution_count": 7,
   "id": "2f747efe",
   "metadata": {},
   "outputs": [],
   "source": [
    "# # Sample applicant information\n",
    "# score_info = {\n",
    "#     'reasoning': 'Calculated risk score based on the following factors: Age (30 years: +1), Home Location (Moderate-risk area: +2), Home Value (5,000,000 THB: +2), Home Type (Condo: +1), Building Material (Concrete: +1), Construction Year (Built after 2000: +1), Natural Disaster Risk (Low risk: +1), Employment Status (Employed: +1), Annual Income (60,000 THB: +2). Total score = 1 + 2 + 2 + 1 + 1 + 1 + 1 + 1 + 2 = 12.',\n",
    "#     'risk_score': 12\n",
    "# }\n",
    "# base_premium = \"500\"\n",
    "# llm_premium.invoke({\n",
    "#     \"risk_score\":score_info['risk_score'], \n",
    "#     \"base_premium\": base_premium\n",
    "# })"
   ]
  },
  {
   "cell_type": "code",
   "execution_count": 8,
   "id": "d474dd77",
   "metadata": {},
   "outputs": [],
   "source": [
    "# Set up the JsonOutputParser and the prompt template.\n",
    "parser = JsonOutputParser(pydantic_object=UnderwritingDecision)\n",
    "\n",
    "decision_template = \"\"\"\n",
    "You are a risk assessment expert who calculates and verifies the premium based on the applicant's details.\n",
    "Given the following inputs:\n",
    "Premium Product : {premium}\n",
    "Annual income of customer : {annual_income}\n",
    "\n",
    "The applicant's monthly income is calculated as: `annual_income / 12`.\n",
    "If the **premium** is greater than 50% of the **monthly income**, the **approved** field should be set to **false**. Otherwise, it will be set to **true**.\n",
    "\n",
    "Return a JSON object matching OutcomePremiumInfo schema.\n",
    "{format_instructions}\n",
    "\"\"\"\n",
    "\n",
    "# Create the prompt template\n",
    "decision_prompt = PromptTemplate(\n",
    "    input_variables=['premium','annual_income'],\n",
    "    template=decision_template,\n",
    "    partial_variables={\"format_instructions\": parser.get_format_instructions()},\n",
    ")\n",
    "\n",
    "# Use LangChain to generate the risk assessment\n",
    "llm_decision = decision_prompt | llm | parser"
   ]
  },
  {
   "cell_type": "code",
   "execution_count": 9,
   "id": "6194be74",
   "metadata": {},
   "outputs": [],
   "source": [
    "# llm_decision.invoke({\n",
    "#     \"premium\" : \"1100\", \n",
    "#     \"annual_income\" : \"60000\"\n",
    "# })"
   ]
  },
  {
   "cell_type": "code",
   "execution_count": 10,
   "id": "2d23ca6d",
   "metadata": {},
   "outputs": [],
   "source": [
    "def finalize_decision(state: UnderwritingState):\n",
    "    print('--finalize_decision--')\n",
    "    #CODE HERE\n",
    "    result = llm_decision.invoke({\"premium\" : state[\"premium_calculation\"]['final_premium'], \"annual_income\" : state[\"applicant_info\"]['annual_income']})\n",
    "    state['underwriting_decision'] = result\n",
    "    return state"
   ]
  },
  {
   "cell_type": "code",
   "execution_count": 11,
   "id": "fafa5869",
   "metadata": {},
   "outputs": [
    {
     "data": {
      "text/plain": [
       "<langgraph.graph.state.StateGraph at 0x111f9aad0>"
      ]
     },
     "execution_count": 11,
     "metadata": {},
     "output_type": "execute_result"
    }
   ],
   "source": [
    "graph_builder.add_node(\"evaluate_risk\", evaluate_risk)\n",
    "graph_builder.add_node(\"determine_premium\", determine_premium)\n",
    "graph_builder.add_node(\"finalize_decision\", finalize_decision)\n",
    "\n",
    "graph_builder.add_edge(START,\"evaluate_risk\")\n",
    "graph_builder.add_edge(\"evaluate_risk\",\"determine_premium\")\n",
    "graph_builder.add_edge(\"determine_premium\",\"finalize_decision\")\n",
    "graph_builder.add_edge(\"finalize_decision\", END)"
   ]
  },
  {
   "cell_type": "code",
   "execution_count": 12,
   "id": "cd0f365f",
   "metadata": {},
   "outputs": [
    {
     "data": {
      "image/png": "[encoded data removed]",
      "text/plain": [
       "<IPython.core.display.Image object>"
      ]
     },
     "metadata": {},
     "output_type": "display_data"
    }
   ],
   "source": [
    "from IPython.display import Image, display\n",
    "\n",
    "# Compile the graph\n",
    "graph = graph_builder.compile()\n",
    "display(Image(graph.get_graph().draw_mermaid_png()))"
   ]
  },
  {
   "cell_type": "code",
   "execution_count": 13,
   "id": "4be4eace",
   "metadata": {},
   "outputs": [
    {
     "name": "stdout",
     "output_type": "stream",
     "text": [
      "--evaluate_risk using LLM--\n",
      "--determine_premium--\n",
      "--finalize_decision--\n",
      "{'applicant_info': {'name': 'Jane Doe', 'age': 30, 'home_value': 5000000.0, 'home_type': 'Condo', 'home_location': 'Thonglor, Bangkok, Thailand', 'natural_disaster_risk': 'Low', 'building_material': 'Concrete', 'construction_year': 2018, 'employment_status': 'Employed', 'annual_income': 60000.0}, 'evaluate_info': {'reasoning': 'Calculated risk score based on the following factors: Age (30 years): +1, Home Location (Thonglor, Bangkok): +2, Home Value (5,000,000 THB): +2, Home Type (Condo): +1, Building Material (Concrete): +1, Construction Year (2018): +1, Natural Disaster Risk (Low): +1, Employment Status (Employed): +1, Annual Income (60,000 THB): +2. Total risk score = 1 + 2 + 2 + 1 + 1 + 1 + 1 + 1 + 2 = 12.', 'risk_score': 12}, 'premium_calculation': {'reasoning': 'The premium is calculated using the formula: premium = base premium * (1 + risk score * 0.1). With a base premium of 500 and a risk score of 12, the calculation is 500 * (1 + 12 * 0.1) = 500 * 2.2 = 1100.', 'final_premium': 1100}, 'underwriting_decision': {'approved': True, 'premium': 1100, 'notes': 'Premium approved'}}\n"
     ]
    }
   ],
   "source": [
    "# Sample applicant information\n",
    "applicant_info = {\n",
    "    'name': \"Jane Doe\",\n",
    "    'age': 30,\n",
    "    'home_value': 5000000.0,  # Estimated value of the home in Thai Baht\n",
    "    'home_type': \"Condo\",\n",
    "    'home_location': \"Thonglor, Bangkok, Thailand\",\n",
    "    'natural_disaster_risk': \"Low\",\n",
    "    'building_material': \"Concrete\",\n",
    "    'construction_year': 2018,\n",
    "    'employment_status': \"Employed\",\n",
    "    'annual_income': 60000.0\n",
    "}\n",
    "\n",
    "# Run the workflow\n",
    "underwriting_decision = graph.invoke({\"applicant_info\":applicant_info})\n",
    "print(underwriting_decision)"
   ]
  },
  {
   "cell_type": "code",
   "execution_count": 14,
   "id": "e81d4b56",
   "metadata": {},
   "outputs": [
    {
     "data": {
      "text/plain": [
       "{'applicant_info': {'name': 'Jane Doe',\n",
       "  'age': 30,\n",
       "  'home_value': 5000000.0,\n",
       "  'home_type': 'Condo',\n",
       "  'home_location': 'Thonglor, Bangkok, Thailand',\n",
       "  'natural_disaster_risk': 'Low',\n",
       "  'building_material': 'Concrete',\n",
       "  'construction_year': 2018,\n",
       "  'employment_status': 'Employed',\n",
       "  'annual_income': 60000.0},\n",
       " 'evaluate_info': {'reasoning': 'Calculated risk score based on the following factors: Age (30 years): +1, Home Location (Thonglor, Bangkok): +2, Home Value (5,000,000 THB): +2, Home Type (Condo): +1, Building Material (Concrete): +1, Construction Year (2018): +1, Natural Disaster Risk (Low): +1, Employment Status (Employed): +1, Annual Income (60,000 THB): +2. Total risk score = 1 + 2 + 2 + 1 + 1 + 1 + 1 + 1 + 2 = 12.',\n",
       "  'risk_score': 12},\n",
       " 'premium_calculation': {'reasoning': 'The premium is calculated using the formula: premium = base premium * (1 + risk score * 0.1). With a base premium of 500 and a risk score of 12, the calculation is 500 * (1 + 12 * 0.1) = 500 * 2.2 = 1100.',\n",
       "  'final_premium': 1100},\n",
       " 'underwriting_decision': {'approved': True,\n",
       "  'premium': 1100,\n",
       "  'notes': 'Premium approved'}}"
      ]
     },
     "execution_count": 14,
     "metadata": {},
     "output_type": "execute_result"
    }
   ],
   "source": [
    "# underwriting_decision"
   ]
  },
  {
   "cell_type": "code",
   "execution_count": null,
   "id": "6e5ed2ce",
   "metadata": {},
   "outputs": [],
   "source": []
  }
 ],
 "metadata": {
  "kernelspec": {
   "display_name": "Python 3 (ipykernel)",
   "language": "python",
   "name": "python3"
  },
  "language_info": {
   "codemirror_mode": {
    "name": "ipython",
    "version": 3
   },
   "file_extension": ".py",
   "mimetype": "text/x-python",
   "name": "python",
   "nbconvert_exporter": "python",
   "pygments_lexer": "ipython3",
   "version": "3.11.10"
  }
 },
 "nbformat": 4,
 "nbformat_minor": 5
}
