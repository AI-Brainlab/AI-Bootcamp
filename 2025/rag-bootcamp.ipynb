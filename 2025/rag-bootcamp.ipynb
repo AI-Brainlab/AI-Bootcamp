{
 "cells": [
  {
   "cell_type": "markdown",
   "metadata": {},
   "source": [
    "# Retrieval-augmented generation (RAG)\n",
    "\n",
    "In a retrieval-augmented generation (RAG) pipeline, this would look like:\n",
    "\n",
    "- Retriever: embeddings helps retrieve relevant documents based on query similarity.\n",
    "- Generator: llm generates answers or summaries based on the retrieved context."
   ]
  },
  {
   "cell_type": "code",
   "execution_count": 1,
   "metadata": {},
   "outputs": [],
   "source": [
    "from langchain.vectorstores import FAISS\n",
    "from langchain.text_splitter import RecursiveCharacterTextSplitter\n",
    "from langchain.document_loaders import PyPDFLoader\n",
    "\n",
    "import torch\n",
    "import os\n",
    "from tqdm.auto import tqdm"
   ]
  },
  {
   "cell_type": "code",
   "execution_count": 2,
   "metadata": {},
   "outputs": [],
   "source": [
    "import os\n",
    "from dotenv import load_dotenv\n",
    "from langchain_openai import AzureChatOpenAI, AzureOpenAIEmbeddings\n",
    "\n",
    "# Step 1: Load environment variables from .env file\n",
    "load_dotenv(\".env\")\n",
    "\n",
    "# Step 2: Retrieve Azure OpenAI environment variables\n",
    "AZURE_OPENAI_ENDPOINT = os.getenv(\"AZURE_OPENAI_ENDPOINT\")\n",
    "AZURE_OPENAI_API_KEY = os.getenv(\"AZURE_OPENAI_API_KEY\")\n",
    "OPENAI_API_VERSION = os.getenv(\"OPENAI_API_VERSION\")\n",
    "MODEL_NAME = os.getenv(\"MODEL_NAME\")\n",
    "\n",
    "#Generator\n",
    "llm = AzureChatOpenAI(\n",
    "    model=\"gpt-4o-mini\", \n",
    "    azure_deployment= \"gpt-4o-mini\",  # Your Azure deployment\n",
    "    api_version     = \"2024-08-01-preview\", #OPENAI_API_VERSION,  # Your API version\n",
    "    api_key         = AZURE_OPENAI_API_KEY,\n",
    "    azure_endpoint  = AZURE_OPENAI_ENDPOINT,\n",
    "    temperature     = 0,\n",
    ")\n",
    "\n",
    "#Retreiver\n",
    "embedding = AzureOpenAIEmbeddings(\n",
    "    model=\"text-embedding-3-large\"\n",
    ")"
   ]
  },
  {
   "cell_type": "code",
   "execution_count": 4,
   "metadata": {},
   "outputs": [],
   "source": [
    "# llm.invoke(\"Hello, world!\")"
   ]
  },
  {
   "cell_type": "markdown",
   "metadata": {},
   "source": [
    "# Part 1 : Data Preprocessing | Vector Store | Retriver"
   ]
  },
  {
   "cell_type": "markdown",
   "metadata": {},
   "source": [
    "## 1.1 Data Preprocessing"
   ]
  },
  {
   "cell_type": "code",
   "execution_count": 5,
   "metadata": {},
   "outputs": [],
   "source": [
    "##STEP1 Document loaders\n",
    "folder_path = './docs/'\n",
    "pdf_list = []\n",
    "for filename in os.listdir(folder_path):\n",
    "    if filename.endswith('.pdf'):\n",
    "        pdf_list.append(folder_path + filename)\n",
    "\n",
    "documents = []\n",
    "pdf_loaders = [PyPDFLoader(pdf) for pdf in pdf_list]\n",
    "for loader in pdf_loaders:\n",
    "    documents.extend(loader.load())"
   ]
  },
  {
   "cell_type": "code",
   "execution_count": 6,
   "metadata": {},
   "outputs": [
    {
     "data": {
      "text/plain": [
       "[Document(metadata={'source': './docs/m3-f2.pdf', 'page': 0}, page_content='DIPLOMA IN INSURANCE SERVICES\\nMODULE - 3\\nNotesInsurance Documents\\nPractice of Life Insurance\\n 202.0 INTRODUCTION\\nDocuments are necessary to evidence the existence of a\\ncontract. In life insurance several documents are in vogue.The documents stand as a proof of the contract between theinsurer and the insured. The major documents in vogue inlife insurance are premium receipt, insurance policy,endorsements etc.\\n2.1 OBJECTIVEAfter going through this lesson you will be able to\\nzRecall the various documents used in life insurance\\nzLearn the utility of each document.\\n2.2 NEED FOR INSURANCE DOCUMENTATIONLife insurance is a legally enforceable contract between two\\nparties both of whom are legally qualified to contract. It istherefore, necessary that the terms and conditions of theagreement must be suitably documented in a manner thatwould make it clear that both parties to the contract are Ad-idem i.e., of the same mind. Ad-Idem means that both theparties understand the same thing in the same sense or areof the same mind on the same subject. There must beconsensus or Ad-Idem between the parties to the contract.\\nThis is possible provided all the terms and conditions, rights\\nand duties - privileges and obligations are properly documentedin terms which can be clearly interpreted in a court of law.Between  two human beings sometime silence means an2\\nINSURANCE DOCUMENTS'),\n",
       " Document(metadata={'source': './docs/m3-f2.pdf', 'page': 1}, page_content='MODULE - 3\\nPractice of Life Insurance\\nNotes\\n 21Insurance Documents\\nDIPLOMA IN INSURANCE SERVICESacceptance. But as the insurer is a legal personality entitled\\nto contract verbal discussion between parties to the contractis not possible and hence there is a need for documentation.\\nInsurance is also a contract of utmost good faith and enforced\\nonly in the distant future. It is therefore necessary that thedeclarations made by both the parties should be put in blackand white for future reference. Any suppression, willful andmaterial shall make the contract void. The insured, therefore,has a duty to declare all that he knows about himself, hishealth, his financial status in answering questions containedin the proposal form and other ancillary documents whichmay be required by the insurer.\\nWe shall discuss in this chapter the various kinds of documents\\nwhich become necessary at three stages of a policy –\\n(1) at the stage of proposal, which if accepted result into a\\npolicy,\\n(2) during the duration of the policy where several alterations\\nmay become necessary\\n(3) at the end of the policy contract when insurer pays the\\nfinal claim.\\n2.2.1  Documents needed at the stage of the proposal2.2.2 Proposal form  is the basic format which is filled in by\\nthe proposer who wants to take an insurance policy. It can bedefined as  the application for insurance.\\nA proposal form has three portions(1) The first gives details about the proposer , his name,\\naddress, occupation, the details about the type of insurancethat he wants to take and the name of the nominee towhom the money is payable in case the policyholder doesnot survive to take the maturity amount.\\n(2) The second portion relates to the details of the insurance\\npolicy  that the proposer already possesses, the present\\nhealth conditions and the personal history of his health,any sickness or accident he might have had.\\nThis is a detailed questionnaire and the proposer is\\nexpected to reply to each question truthfully and honestly.A female proposer has to reply to certain additionalquestions specific to her gender.'),\n",
       " Document(metadata={'source': './docs/m3-f2.pdf', 'page': 2}, page_content='DIPLOMA IN INSURANCE SERVICES\\nMODULE - 3\\nNotesInsurance Documents\\nPractice of Life Insurance\\n 22(3) The last portion of the proposal form relates to the\\ndeclaration.  Through this declaration, the proposer\\n(i) affirms the veracity of the statements made in the\\nproposal form in replying to the question\\n(ii)affirms that he/she has not suppressed,\\nmisrepresented or concealed any fact which may bematerial to the risk\\n(iii)agrees that this declaration along with the proposal\\nform shall form the basis of the contract and if anyinformation is found to be false the contract will benull and void thus reinforcing the principle of“Uberimma Fides” (Utmost good faith).\\n(iv)further agrees to take the insurance on the terms and\\nconditions decided by the insurer.\\nThe proposer further agrees to keep the insurer informed of\\nany changes in the position relating to his health  or hisoccupation between now and the issuance of the first premiumreceipt.\\nIt is thus clear that after the insurer has issued the first\\npremium receipt, the contract is said to have concluded andthereafter the insurer has no right to change the terms of thecontract.\\nHowever, the insurer has a right to offer any term and condition\\nbefore the final acceptance of the insurance. For example, incase of a female proposer, the insurer may not agree to acceptthe risk of the childbirth. In case of certain hazardousoccupation like commercial pilots, the insurer may like toexclude the risk to life due to such occupation.\\nIn case of certain deformity, the risk of accident can be\\nexcluded. These exclusions of risks are not normal terms ofthe policy contract and therefore have to elicit consent of theproposer. In case of a substandard health, the insurer maylike to accept a reduced risk during the first one or two yearsof the insurance. The consent of the insured is a must forsuch limitations to be imposed.\\nAll such special conditions or riders are mentioned in the\\npolicy either by an endorsement or attachment to thedocument. If the insurer has taken a Convertible Whole LifePlan which is to be converted to an endowment plan after 5'),\n",
       " Document(metadata={'source': './docs/m3-f2.pdf', 'page': 3}, page_content='MODULE - 3\\nPractice of Life Insurance\\nNotes\\n 23Insurance Documents\\nDIPLOMA IN INSURANCE SERVICESyears, the necessary condition is endorsed on the policy.\\nThe terms and conditions as mentioned in the policy along\\nwith such endorsements as made at the back of the policygovern the insurance contract and are open to be interpretedby a court. However it may be noted that agents confidentialreport and the medical examination (confidential) report arenot part of the contract for insurance.\\nINTEXT QUESTIONS 2.1\\n1. What are the different stages where documentation is\\nrequired?\\n2 Define Proposal Form.\\nThere are certain other documents which may be required at\\nthe proposal stage.\\n2.2.3 Age proofAge is an important factor in deciding the quantum of premium\\nagainst a policy. The document proving the age, i.e. age proofmust be reliable and the insured has to undertake as to itstruthfulness. An insurer accepts these documents as standardage proof -\\n1) Certified extract from municipal records, recorded at the\\ntime of birth.\\n2) Certificate of baptism or extract from Family Bible3) Extract from school or college records.4) Extract from service register in case of employees -\\nGovernment or semi government or such other reputedinstitutions which insist on conclusive evidence of age atthe time of recruitment.\\n5) Identity card issued by Defence department.6) Marriage certificates issued by Roman Catholic Church.7) Domicile certificate.8) Passport.\\nNon-standard age proofs  are those which are comparatively\\nless reliable and therefore the insurer accepts them with apinch of salt. In other words the insurer takes certainprecautions before accepting such age proofs as final.'),\n",
       " Document(metadata={'source': './docs/m3-f2.pdf', 'page': 4}, page_content='DIPLOMA IN INSURANCE SERVICES\\nMODULE - 3\\nNotesInsurance Documents\\nPractice of Life Insurance\\n 24For example, such age proofs are examined by a senior officer\\nand not accepted as a matter of routine. Another safeguard isto offer a reduced term of policy so that the policy matures ata comparatively early age. The maximum age of maturity maybe  fixed at a lower age. The insurer even may charge an extrapremium to compensate for the possible understatement ofage in such age proof.\\nSuch non–standard age proofs are  (1) Horoscope, (2) service\\nrecords of employers other than those mentioned above (3)ESI card, (4) Marriage Certificate in case of a  Muslim proposer.,5) Elders Declaration, 6) Self Declaration, 7) Driving Licence,8) Certificate issued by village panchayat, 9) Electoral role,10) Ration card.\\nAge proof is insisted upon for completion of propsoal if the\\ndeclared age of the proposer is less than 20 or more than 50or if the sum proposed is quite high, say above one lakh.\\n2.2.4  Proof of incomeThis document may become necessary whenever the sum\\nproposed is very high. Normally a sum proposed which is sevento eight times of the declared income is acceptable forinsurance. But proposals do come to the insurer when theknown source of income of the proposer is much less comparedto the amount of insurance desired. A service holder normallydoes not face this problem as his sources of income areverifiable.\\nIn case of business people, the assessed income is at times\\nmuch less compared to what is a desirable income for theamount of insurance desired. In such cases the insurer attimes calls for assessed income tax returns, or CharteredAccountant’s certificate etc. Such precautions are necessaryto eliminate the possibility of moral hazard.\\n2.3 DOCUMENTS NEEDED DURING THE CONTINUANCE\\nOF THE POLICY:\\n2.3.1 First Premium Receipts and Renewal Premium\\nReceipts\\nThe First Premium Receipt (FPR) is the confirmation of\\ninsurance . This document is important as it gives the date of\\nassumption of the risk but its value is nil once the policydocument has been issued.'),\n",
       " Document(metadata={'source': './docs/m3-f2.pdf', 'page': 5}, page_content='MODULE - 3\\nPractice of Life Insurance\\nNotes\\n 25Insurance Documents\\nDIPLOMA IN INSURANCE SERVICES2.3.2 Policy Contract\\nPolicy document is a detailed document and it is the Evidence\\nof the insurance contract  which mentions all the terms and\\nconditions of the insurance. The insured buys not the policycontract, but the right to the sum of money and its futuredelivery. The insurer on its part promises to pay a sum ofmoney, provided of course the insured keeps its part of promiseof paying the installments of premium as scheduled.\\nThe  pre-amble to the insurance contract makes the above\\nstatement clear and states that this policy is issued subject tothe conditions and privileges printed on the back of the policy.The endorsements placed on the policy shall also be part ofthe policy and it also makes a reference to the proposal formsaying that that the statements given in the proposal form arethe basis of the contract.\\nThe schedule which is printed on the policy document\\nidentifies the office which has issued the policy. It states thename of the policyholder, the date of commencement of thepolicy, an identification number of the policy called policynumber. This number is extremely useful for making anyreference to the insurer relating to this policy. This shall avoidneedless delay.\\nBeneficiary’s name is also mentioned along with address.It is necessary to check that it is correct and any mistake\\nshould be immediately pointed out for correction. A mistakein the address may misdirect the premium notices and anyother future correspondence. It also states the name of thenominee and the date upto which premium has to be paid.The schedule goes on to mention, the type of policy, on thehappening of which, the sum assured is payable and to whomit is payable. It of course also mentions when and how longthe premium is to be paid.\\nThe policy document is signed by an official of the insurer\\nand dated and stamped as per the provision of the Stamp Actto make it a completely legally enforceable document.\\n2.3.3 Renewal Premium ReceiptsThough it is the duty of the insured to pay the renewal\\npremium on the due date the insurer sends a renewal premiumnotice to the insured out of courtesy and on receiving the'),\n",
       " Document(metadata={'source': './docs/m3-f2.pdf', 'page': 6}, page_content='DIPLOMA IN INSURANCE SERVICES\\nMODULE - 3\\nNotesInsurance Documents\\nPractice of Life Insurance\\n 26premium issues a renewal premium receipt (RPR)  which is\\nan important document and has to be preserved as it is theonly documentary proof that the due payment has been made.\\n2.3.4 EndorsementsLife insurance policy being a long term contract, it is quite\\nlikely that the conditions may so change over the time that analteration or change in the policy conditions may be required.The insurers normally permit such changes which are in theinterest of the policyholders and also simultaneously do notadversely affect the insurer’s interest.\\nIt has to be noted however, that the insurer is not authorized\\nto make any change in the conditions of the policy during itscontinuance except such which has been agreed to in thebeginning of the policy. An insurance policy, in this sense iscalled an unilateral contract.\\nAll such alterations as are discussed hereafter are effected by\\nendorsements on the policy document.\\nThe following alterations are not permitted.(1) Alterations during the first year,\\n(2) Alteration from one class of assurance to another where\\nthe premium scale is reduced.\\n(3) Alteration to another plan which is more risk oriented.(4) Increase in sum assured in the same policy.\\nThe following alterations are allowed1) Limiting the premium paying period, but date of maturity\\nremaining unaltered;\\n2) Change in the mode of payment of premium e.g. Half-\\nyearly to yearly or half-yearly to quarterly;\\n3) Alteration due to age admission, if required, has to be\\ncompulsorily done;\\n4) Alteration or correction in the name of the assured/\\nnominee;\\n5) Bringing the policy under salary savings scheme;6) Replacing a limiting clause by an extra premium. For\\nexample the first pregnancy clause can be replaced by anone time extra  premium of Rs.5/- per thousand;'),\n",
       " Document(metadata={'source': './docs/m3-f2.pdf', 'page': 7}, page_content='MODULE - 3\\nPractice of Life Insurance\\nNotes\\n 27Insurance Documents\\nDIPLOMA IN INSURANCE SERVICES7) An extra premium imposed for specific impairment or\\noccupational reasons can be removed or reduced. Forexample, an extra premium imposed for hernia orhydrocele can be removed after surgical operation.Similarly, an occupational  extra premium can be removed,if there is change in occupation to a less hazardous one.However an occupational extra premium cannot beimposed, after the policy has been issued, even if thepolicyholder takes up a more hazardous job.\\nAll such alterations are effected by an endorsement on the\\nback of the policy or by a separate memo which becomes apart of the policy.\\n2.3.5 Duplicate policy :\\nA policy document is a valuable document and can be used\\nfor mortgage etc. Loss of policy document does not absolvethe insurer from the liability of payment of policy proceedswhen the claim arises. The claim can be settled on theclaimants, furnishing an indemnity bond jointly with onesurety.\\nIf a policy is irrevocably lost, a duplicate policy can be issued,\\nafter following a certain procedure. The insurer satisfies itselfof the circumstances leading to loss. Being so satisfied theinsurer insists upon an advertisement in a news paper,production of an indemnity bond and payment of policypreparation charges and there after a duplicate policy is issued.The duplicate policy is stamped “Duplicate Policy”.\\n2.3.6 Nomination:Generally nomination is made at the time of taking a policy.\\nIn case it is not done, it is possible to make nominationsubsequently by an endorsement on the policy. It is alsopossible to change a nomination subsequently by anendorsement. After marriage, such change in nomination isnormally required.\\n2.3.7 AssignmentAn assignment of a policy in favour of another person or\\ninstitution can be effected by an endorsement on the policy.Re-assignment can also be done by a subsequent endorsementon the same policy.'),\n",
       " Document(metadata={'source': './docs/m3-f2.pdf', 'page': 8}, page_content='DIPLOMA IN INSURANCE SERVICES\\nMODULE - 3\\nNotesInsurance Documents\\nPractice of Life Insurance\\n 28As a nomination is automatically cancelled due to an\\nassignment, after re-assignment, it is necessary to make afresh nomination.\\n2.3.8  Renewal NoticeKeeping the policy in force is in the interest of the policyholder\\nand also of the insurer. The insured loses the valuableprotection that the life assurance policy ensures. The insurerloses because without the renewal premium coming, theheavy expenses which it incurs in the beginning of a policycannot be compensated. Every insurer will, therefore, take allpossible actions to reduce policy-lapses and if lapsed, to getthe policy revived.\\nAn insurer therefore sends out regular premium notices even\\nthough it is not a legal requirement.\\n1) Premium notice is usually sent before the due date of the\\npremium. An insurer is not legally obliged to send apremium notice. It is a matter of courtesy and greatlyhelps the life assured for timely payment of premium.\\n2) Premium default notice : This notice is sent within 3\\nmonths after the due date reminding the policyholder topay the premium to prevent the policy-lapses.\\n3) Issue of Final lapse notice : If  the premium is not paid\\nwithin six months of the due date, and the policy is allowedto lapse, this notice is issued to the policyholder requestinghim to revive the policy to restore the full insurance cover.\\n4) Intimation to agent : Agent  being vitally concerned with\\nthe continuance of a policy, he is also suitably informedevery time so that  he can contact the policyholder forpayment of the premium.\\nINTEXT QUESTIONS 1.2\\n1. What is FPR?\\n2. What is endorsement?\\n3. When can a duplicate policy be issued?.\\n2.4 SUMMARY\\nLife insurance being a legally enforceable contract, needs to\\nbe documented with details of the rights and obligations of'),\n",
       " Document(metadata={'source': './docs/m3-f2.pdf', 'page': 9}, page_content='MODULE - 3\\nPractice of Life Insurance\\nNotes\\n 29Insurance Documents\\nDIPLOMA IN INSURANCE SERVICESthe parties to the contract. Proposal form duly filled in and\\nsigned by the proposer is the first document which forms thebasis of the contract.\\nEvery time, the insured pays the premium, he receives a\\npremium receipt. The premium needs to be paid in time, non-payment of premium leads to policy-lapses. Re-instatementof the cover is called revival of the policy.\\nIf the policy is not revived, the policy can become a paid up\\npolicy for a reduced sum assured under certain conditions.\\nThe policy document mentions in detail all the rights and\\nobligations of the policyholder. The agent is advised to explainthe various provisions of the policy to the policyholder.\\nThe wordings in the policy document are of technical nature\\nand hence the need for explaining. If there are certainendorsements on the policy, that need to be explained too.\\nIt needs to be explained that the policy is a valuable document\\nand needs to be kept in safe custody and in the knowledge ofthe close relatives.\\n2.5 TERMINAL QUESTIONS\\n1. Which document evidences the contract of insurance?\\n2. Which document records any changes in life insurance\\ncontract?\\n3. Discuss the contents of Proposal Form4. Which are the standard age proofs?5. Why income documents are required to take a policy?6. What alterations are not allowed in the policy?7 Discuss the provisions of sending renewal notices.8 Which are non-standard age proofs?\\n2.6 OBJECTIVE TYPE QUESTIONS\\n1. Which one of the following statements is correct?\\na. The policy is the basis of the insurance contract.b. The proposal is the basis of the insurance contract.c. Both (a) and (b) statements are correct.'),\n",
       " Document(metadata={'source': './docs/m3-f2.pdf', 'page': 10}, page_content='DIPLOMA IN INSURANCE SERVICES\\nMODULE - 3\\nNotesInsurance Documents\\nPractice of Life Insurance\\n 30d. Both (a) and (b) statements are wrong.\\n2. Which one of the following statements is correct?\\na. The proposal must be written by the proposer himself/\\nherself.\\nb. The proposal can be written by the Agent.c. Both (a) and (b) statements are correct.d. Both (a) and (b) statements are wrong.\\n3. Which one of the following statements is correct?\\na. The information in the proposal form is used for\\nunderwriting.\\nb.  Wrong information in the proposal form can nullify\\nthe insurance contract.\\nc. Both (a) and (b) statements are correct.d. Both (a) and (b) statements are wrong.\\n4. Which of the following are confidential and will not be\\ngiven to the proposer?\\na. The medical report.b. The agent’s confidential report to the insurer.c. The medical referee’s advice.d. All the above.\\n5. Which one of the following statements is correct?\\na. FPR is the evidence of the insurance contract.b. The medical report is the basis of the insurance\\ncontract.\\nc. Both (a) and (b) statements are correct.d. Both (a) and (b) statements are wrong.\\n6. Which one of the following statements is correct?\\na. The FPR is proof of commencement of risk.b. Risk does not commence till the policy is signed.c. Both (a) and (b) statements are correct.d. Both (a) and (b) statements are wrong.\\n7. If a policyholder applies for cancellation of policy soon\\nafter he receives the FPR'),\n",
       " Document(metadata={'source': './docs/m3-f2.pdf', 'page': 11}, page_content='MODULE - 3\\nPractice of Life Insurance\\nNotes\\n 31Insurance Documents\\nDIPLOMA IN INSURANCE SERVICESa. The full premium will be refunded.\\nb. The full premium after some small deduction will be\\nrefunded.\\nc. The policy will be treated as lapsed from the next\\npremium due date.\\nd. He will be debarred from taking any further insurance\\npolicies.\\n8. Which one of the following statements is correct?\\na. FPR is cash receipt.b. Renewal Premium cannot be paid without the renewal\\nnotice.\\nc. Both (a) and (b) statements are correct.d. Both (a) and (b) statements are wrong.\\n9. Which one of the following statements is correct?\\na. IRDA has prescribed proposal forms for all insurers.b. Renewal premium cannot be paid without the renewal\\nnotice.\\nc. Both (a) and (b) statements are correct.d. Both (a) and (b) statements are wrong.\\n10. Which one of the following statements is correct?\\na. If policy document is lost the insurance contract\\nbecomes void.\\nb. The family history appears in the personal statement.c. Both (a) and (b) statements are correct.d. Both (a) and (b) statements are wrong.\\n2.7 ANSWERS TO INTEXT QUESTIONS\\n2.1\\n1. At the time of taking the policy, For any endorsement\\nand at the time of claim\\n2. Proposal form means where all the particulars of an\\nindividual are provided to the insurance company tounderwrite the policy.'),\n",
       " Document(metadata={'source': './docs/m3-f2.pdf', 'page': 12}, page_content='DIPLOMA IN INSURANCE SERVICES\\nMODULE - 3\\nNotesInsurance Documents\\nPractice of Life Insurance\\n 322.2\\n1. The First Premium Receipt (FPR) is the confirmation of\\ninsurance\\n2. Endorsement means  any alteration in the policy.3. Insurer insists upon an advertisement in a news paper,\\nproduction of an indemnity bond and payment of policypreparation charges and there after a duplicate policy isissued.\\n2.8 ANSWERS OBJECTIVE TYPE QUESTIONS\\n1. b 2. d\\n3. c 4. d\\n5. d 6. b\\n7. b 8. a9. d 10. b\\nGlossary\\nProposal form  is the basic format which is filled in by the\\nproposer who wants to take an insurance policy.\\nFirst Premium Receipt  is the confirmation of a concluded\\ninsurance contract.\\nPolicy document  is the evidence of the insurance contract\\nand is a detailed document which mentions all the terms andconditions of the insurance\\nDuplicate Policy  If a policy is irrevocably lost, a duplicate\\npolicy can be issued, after following a certain procedure. Theinsurer satisfies itself of the circumstances leading to loss.Being so satisfied the insurer insists upon an advertisementin a news paper, production  of an indemnity bond andpayment of policy preparation charges and there after aduplicate policy is issued. The duplicate policy is stamped“Duplicate Policy”.\\nAssignment  - An assignment of a policy in favour of another\\nperson or institution can be effected by an endorsement onthe policy. Re-assignment can also be done by a subsequentendorsement on the same policy.')]"
      ]
     },
     "execution_count": 6,
     "metadata": {},
     "output_type": "execute_result"
    }
   ],
   "source": [
    "documents"
   ]
  },
  {
   "cell_type": "code",
   "execution_count": 7,
   "metadata": {},
   "outputs": [
    {
     "data": {
      "text/plain": [
       "13"
      ]
     },
     "execution_count": 7,
     "metadata": {},
     "output_type": "execute_result"
    }
   ],
   "source": [
    "len(documents) #how many page"
   ]
  },
  {
   "cell_type": "code",
   "execution_count": 8,
   "metadata": {},
   "outputs": [],
   "source": [
    "##STEP2 Document transformers\n",
    "text_splitter = RecursiveCharacterTextSplitter(\n",
    "    chunk_size = 1000,\n",
    "    chunk_overlap = 100\n",
    ")\n",
    "\n",
    "docs = text_splitter.split_documents(documents) "
   ]
  },
  {
   "cell_type": "code",
   "execution_count": 9,
   "metadata": {},
   "outputs": [
    {
     "data": {
      "text/plain": [
       "32"
      ]
     },
     "execution_count": 9,
     "metadata": {},
     "output_type": "execute_result"
    }
   ],
   "source": [
    "len(docs) #each page has been chunk"
   ]
  },
  {
   "cell_type": "markdown",
   "metadata": {},
   "source": [
    "## 1.2 Vector Store"
   ]
  },
  {
   "cell_type": "code",
   "execution_count": 10,
   "metadata": {},
   "outputs": [],
   "source": [
    "##STEP3 Text embedding models\n",
    "#above is call already\n",
    "\n",
    "##STEP4 Vector stores\n",
    "vector_path = 'vectordb_path'\n",
    "db_file_name = 'insurance'\n",
    "\n",
    "vectordb = FAISS.from_documents(\n",
    "        documents = docs, \n",
    "        embedding = embedding)\n",
    "\n",
    "vectordb.save_local(\n",
    "    os.path.join(vector_path, db_file_name)\n",
    ")"
   ]
  },
  {
   "cell_type": "code",
   "execution_count": 11,
   "metadata": {},
   "outputs": [],
   "source": [
    "##STEP5 Retrievers\n",
    "vectordb = FAISS.load_local(\n",
    "        folder_path = os.path.join(vector_path, db_file_name),\n",
    "        embeddings  = embedding,\n",
    "        allow_dangerous_deserialization=True\n",
    "    ) \n",
    "\n",
    "retriever = vectordb.as_retriever()"
   ]
  },
  {
   "cell_type": "markdown",
   "metadata": {},
   "source": [
    "## 1.3 Retriever"
   ]
  },
  {
   "cell_type": "code",
   "execution_count": 16,
   "metadata": {},
   "outputs": [
    {
     "data": {
      "text/plain": [
       "[Document(metadata={'source': './docs/m3-f2.pdf', 'page': 1}, page_content='(1) at the stage of proposal, which if accepted result into a\\npolicy,\\n(2) during the duration of the policy where several alterations\\nmay become necessary\\n(3) at the end of the policy contract when insurer pays the\\nfinal claim.\\n2.2.1  Documents needed at the stage of the proposal2.2.2 Proposal form  is the basic format which is filled in by\\nthe proposer who wants to take an insurance policy. It can bedefined as  the application for insurance.\\nA proposal form has three portions(1) The first gives details about the proposer , his name,\\naddress, occupation, the details about the type of insurancethat he wants to take and the name of the nominee towhom the money is payable in case the policyholder doesnot survive to take the maturity amount.\\n(2) The second portion relates to the details of the insurance\\npolicy  that the proposer already possesses, the present\\nhealth conditions and the personal history of his health,any sickness or accident he might have had.'),\n",
       " Document(metadata={'source': './docs/m3-f2.pdf', 'page': 2}, page_content='DIPLOMA IN INSURANCE SERVICES\\nMODULE - 3\\nNotesInsurance Documents\\nPractice of Life Insurance\\n 22(3) The last portion of the proposal form relates to the\\ndeclaration.  Through this declaration, the proposer\\n(i) affirms the veracity of the statements made in the\\nproposal form in replying to the question\\n(ii)affirms that he/she has not suppressed,\\nmisrepresented or concealed any fact which may bematerial to the risk\\n(iii)agrees that this declaration along with the proposal\\nform shall form the basis of the contract and if anyinformation is found to be false the contract will benull and void thus reinforcing the principle of“Uberimma Fides” (Utmost good faith).\\n(iv)further agrees to take the insurance on the terms and\\nconditions decided by the insurer.\\nThe proposer further agrees to keep the insurer informed of\\nany changes in the position relating to his health  or hisoccupation between now and the issuance of the first premiumreceipt.'),\n",
       " Document(metadata={'source': './docs/m3-f2.pdf', 'page': 9}, page_content='It needs to be explained that the policy is a valuable document\\nand needs to be kept in safe custody and in the knowledge ofthe close relatives.\\n2.5 TERMINAL QUESTIONS\\n1. Which document evidences the contract of insurance?\\n2. Which document records any changes in life insurance\\ncontract?\\n3. Discuss the contents of Proposal Form4. Which are the standard age proofs?5. Why income documents are required to take a policy?6. What alterations are not allowed in the policy?7 Discuss the provisions of sending renewal notices.8 Which are non-standard age proofs?\\n2.6 OBJECTIVE TYPE QUESTIONS\\n1. Which one of the following statements is correct?\\na. The policy is the basis of the insurance contract.b. The proposal is the basis of the insurance contract.c. Both (a) and (b) statements are correct.'),\n",
       " Document(metadata={'source': './docs/m3-f2.pdf', 'page': 3}, page_content='MODULE - 3\\nPractice of Life Insurance\\nNotes\\n 23Insurance Documents\\nDIPLOMA IN INSURANCE SERVICESyears, the necessary condition is endorsed on the policy.\\nThe terms and conditions as mentioned in the policy along\\nwith such endorsements as made at the back of the policygovern the insurance contract and are open to be interpretedby a court. However it may be noted that agents confidentialreport and the medical examination (confidential) report arenot part of the contract for insurance.\\nINTEXT QUESTIONS 2.1\\n1. What are the different stages where documentation is\\nrequired?\\n2 Define Proposal Form.\\nThere are certain other documents which may be required at\\nthe proposal stage.\\n2.2.3 Age proofAge is an important factor in deciding the quantum of premium\\nagainst a policy. The document proving the age, i.e. age proofmust be reliable and the insured has to undertake as to itstruthfulness. An insurer accepts these documents as standardage proof -')]"
      ]
     },
     "execution_count": 16,
     "metadata": {},
     "output_type": "execute_result"
    }
   ],
   "source": [
    "# Testing\n",
    "retriever.invoke(\"What is Proposal form?\")"
   ]
  },
  {
   "cell_type": "markdown",
   "metadata": {},
   "source": [
    "# Part 2 : LLM  "
   ]
  },
  {
   "cell_type": "markdown",
   "metadata": {},
   "source": [
    "## 2.1 Prompt Engineering"
   ]
  },
  {
   "cell_type": "code",
   "execution_count": 17,
   "metadata": {},
   "outputs": [
    {
     "data": {
      "text/plain": [
       "PromptTemplate(input_variables=['adjective', 'content'], input_types={}, partial_variables={}, template='Tell me a {adjective} joke about {content}.')"
      ]
     },
     "execution_count": 17,
     "metadata": {},
     "output_type": "execute_result"
    }
   ],
   "source": [
    "# sample prompt\n",
    "# we have create template with placeholder\n",
    "from langchain.prompts import PromptTemplate\n",
    "\n",
    "template = \"Tell me a {adjective} joke about {content}.\"\n",
    "prompt_template = PromptTemplate.from_template(template)\n",
    "prompt_template"
   ]
  },
  {
   "cell_type": "code",
   "execution_count": 18,
   "metadata": {},
   "outputs": [
    {
     "data": {
      "text/plain": [
       "'Tell me a funny joke about chickens.'"
      ]
     },
     "execution_count": 18,
     "metadata": {},
     "output_type": "execute_result"
    }
   ],
   "source": [
    "prompt_template.format(adjective=\"funny\", content=\"chickens\")\n",
    "# This is not good prompt as we talked"
   ]
  },
  {
   "cell_type": "code",
   "execution_count": 19,
   "metadata": {},
   "outputs": [],
   "source": [
    "from langchain.prompts import PromptTemplate\n",
    "\n",
    "template = \"\"\"\n",
    "You are the chatbot and the face of our Insurance Company. Your job is to provide helpful, accurate, and friendly information to prospective and current clients about our insurance services and policies.\n",
    "Your responsibility is to answer questions only and only related to our insurance offerings. \n",
    "Anything unrelated should be responded to with a polite reminder that your primary role is to assist with insurance-related inquiries.\n",
    "MUST only use the following pieces of context to answer the question at the end. If the answers are not in the context or you are not sure of the answer, just say that you don't know — do not try to make up an answer.\n",
    "\n",
    "When encountering abusive, offensive, or harmful language, such as fuck, bitch, etc, just politely ask the users to maintain appropriate behavior.\n",
    "\n",
    "Always make sure to elaborate your response and use a warm, professional, and reassuring tone to reflect the trust and reliability of our brand. Never answer with any unfinished response.\n",
    "\n",
    "Context : {context}\n",
    "Question: {question}\n",
    "Answer:\"\"\"\n",
    "\n",
    "prompt = PromptTemplate(\n",
    "    template = template, \n",
    "    input_variables=[\"context\", \"question\"]\n",
    ")\n",
    "\n",
    "##context is information from documents that are retrieved"
   ]
  },
  {
   "cell_type": "markdown",
   "metadata": {},
   "source": [
    "## 2.2 Chain = Prompt + Model"
   ]
  },
  {
   "cell_type": "code",
   "execution_count": 20,
   "metadata": {},
   "outputs": [],
   "source": [
    "chain = prompt | llm\n",
    "\n",
    "# Invoke with insurance-related topic\n",
    "result = chain.invoke({\n",
    "    \"context\": \"Policy document is the evidence of the insurance contract and is a detailed document which mentions all the terms and conditions of the insurance\", \n",
    "    \"question\": \"What is Policy document\"\n",
    "})"
   ]
  },
  {
   "cell_type": "code",
   "execution_count": 21,
   "metadata": {},
   "outputs": [
    {
     "data": {
      "text/plain": [
       "AIMessage(content='A policy document is a crucial piece of evidence for your insurance contract. It is a detailed document that outlines all the terms and conditions of your insurance coverage. This document serves as a reference for both you and the insurance company, ensuring that all parties are clear on the specifics of the policy, including coverage limits, exclusions, and the responsibilities of both the insurer and the insured. If you have any further questions about your policy document or need assistance with understanding any part of it, feel free to ask!', additional_kwargs={'refusal': None}, response_metadata={'token_usage': {'completion_tokens': 101, 'prompt_tokens': 230, 'total_tokens': 331, 'completion_tokens_details': {'accepted_prediction_tokens': 0, 'audio_tokens': 0, 'reasoning_tokens': 0, 'rejected_prediction_tokens': 0}, 'prompt_tokens_details': {'audio_tokens': 0, 'cached_tokens': 0}}, 'model_name': 'gpt-4o-mini-2024-07-18', 'system_fingerprint': 'fp_b705f0c291', 'prompt_filter_results': [{'prompt_index': 0, 'content_filter_results': {'hate': {'filtered': False, 'severity': 'low'}, 'self_harm': {'filtered': False, 'severity': 'safe'}, 'sexual': {'filtered': False, 'severity': 'safe'}, 'violence': {'filtered': False, 'severity': 'safe'}}}], 'finish_reason': 'stop', 'logprobs': None, 'content_filter_results': {'hate': {'filtered': False, 'severity': 'safe'}, 'self_harm': {'filtered': False, 'severity': 'safe'}, 'sexual': {'filtered': False, 'severity': 'safe'}, 'violence': {'filtered': False, 'severity': 'safe'}}}, id='run-dcb41566-8213-4c8d-91d8-3e09c6acfc40-0', usage_metadata={'input_tokens': 230, 'output_tokens': 101, 'total_tokens': 331, 'input_token_details': {'audio': 0, 'cache_read': 0}, 'output_token_details': {'audio': 0, 'reasoning': 0}})"
      ]
     },
     "execution_count": 21,
     "metadata": {},
     "output_type": "execute_result"
    }
   ],
   "source": [
    "result"
   ]
  },
  {
   "cell_type": "code",
   "execution_count": 22,
   "metadata": {},
   "outputs": [
    {
     "name": "stdout",
     "output_type": "stream",
     "text": [
      "A policy document is a crucial piece of evidence for your insurance contract. It is a detailed document that outlines all the terms and conditions of your insurance coverage. This document serves as a reference for both you and the insurance company, ensuring that all parties are clear on the specifics of the policy, including coverage limits, exclusions, and the responsibilities of both the insurer and the insured. If you have any further questions about your policy document or need assistance with understanding any part of it, feel free to ask!\n"
     ]
    }
   ],
   "source": [
    "print(result.content)"
   ]
  },
  {
   "cell_type": "code",
   "execution_count": 45,
   "metadata": {},
   "outputs": [],
   "source": [
    "# In case, you want to return only string\n",
    "from langchain_core.output_parsers import StrOutputParser\n",
    "# Output parser for the response\n",
    "output_parser = StrOutputParser()\n",
    "\n",
    "# Chain setup with model and output parser\n",
    "chain = prompt | llm | output_parser\n",
    "\n",
    "# Invoke with insurance-related topic\n",
    "result = chain.invoke({\n",
    "    \"context\": \"Policy document is the evidence of the insurance contract and is a detailed document which mentions all the terms and conditions of the insurance\", \n",
    "    \"question\": \"What is Policy document\"\n",
    "})"
   ]
  },
  {
   "cell_type": "code",
   "execution_count": 40,
   "metadata": {},
   "outputs": [
    {
     "name": "stdout",
     "output_type": "stream",
     "text": [
      "A policy document is a crucial piece of evidence for your insurance contract. It serves as a detailed record that outlines all the terms and conditions associated with your insurance coverage. This document provides important information regarding what is covered, any exclusions, the duration of the policy, and the responsibilities of both the insurer and the insured. It is essential to review your policy document carefully to understand your coverage and ensure that it meets your needs. If you have any further questions about your policy or need assistance with anything else related to our insurance services, feel free to ask!\n"
     ]
    }
   ],
   "source": [
    "print(result)"
   ]
  },
  {
   "cell_type": "markdown",
   "metadata": {},
   "source": [
    "# PART 3 RAG (Retriver + LLM)"
   ]
  },
  {
   "cell_type": "code",
   "execution_count": 23,
   "metadata": {},
   "outputs": [],
   "source": [
    "question = input(\"What is your question?\")"
   ]
  },
  {
   "cell_type": "code",
   "execution_count": 24,
   "metadata": {},
   "outputs": [
    {
     "data": {
      "text/plain": [
       "'What is Policy document'"
      ]
     },
     "execution_count": 24,
     "metadata": {},
     "output_type": "execute_result"
    }
   ],
   "source": [
    "question"
   ]
  },
  {
   "cell_type": "code",
   "execution_count": 25,
   "metadata": {},
   "outputs": [],
   "source": [
    "docs = retriever.invoke(question)\n",
    "# Combine the documents into a single string\n",
    "context = \"\\n-------------------------------\\n\".join(d.page_content for d in docs)"
   ]
  },
  {
   "cell_type": "code",
   "execution_count": 37,
   "metadata": {},
   "outputs": [
    {
     "name": "stdout",
     "output_type": "stream",
     "text": [
      "9. Which one of the following statements is correct?\n",
      "a. IRDA has prescribed proposal forms for all insurers.b. Renewal premium cannot be paid without the renewal\n",
      "notice.\n",
      "c. Both (a) and (b) statements are correct.d. Both (a) and (b) statements are wrong.\n",
      "10. Which one of the following statements is correct?\n",
      "a. If policy document is lost the insurance contract\n",
      "becomes void.\n",
      "b. The family history appears in the personal statement.c. Both (a) and (b) statements are correct.d. Both (a) and (b) statements are wrong.\n",
      "2.7 ANSWERS TO INTEXT QUESTIONS\n",
      "2.1\n",
      "1. At the time of taking the policy, For any endorsement\n",
      "and at the time of claim\n",
      "2. Proposal form means where all the particulars of an\n",
      "-------------------------------\n",
      "This is possible provided all the terms and conditions, rights\n",
      "and duties - privileges and obligations are properly documentedin terms which can be clearly interpreted in a court of law.Between  two human beings sometime silence means an2\n",
      "INSURANCE DOCUMENTS\n",
      "-------------------------------\n",
      "The  pre-amble to the insurance contract makes the above\n",
      "statement clear and states that this policy is issued subject tothe conditions and privileges printed on the back of the policy.The endorsements placed on the policy shall also be part ofthe policy and it also makes a reference to the proposal formsaying that that the statements given in the proposal form arethe basis of the contract.\n",
      "The schedule which is printed on the policy document\n",
      "-------------------------------\n",
      "2. Which document records any changes in life insurance\n",
      "contract?\n",
      "3. Discuss the contents of Proposal Form4. Which are the standard age proofs?5. Why income documents are required to take a policy?6. What alterations are not allowed in the policy?7 Discuss the provisions of sending renewal notices.8 Which are non-standard age proofs?\n",
      "2.6 OBJECTIVE TYPE QUESTIONS\n",
      "1. Which one of the following statements is correct?\n",
      "a. The policy is the basis of the insurance contract.b. The proposal is the basis of the insurance contract.c. Both (a) and (b) statements are correct.\n"
     ]
    }
   ],
   "source": [
    "print(context)"
   ]
  },
  {
   "cell_type": "code",
   "execution_count": 27,
   "metadata": {},
   "outputs": [],
   "source": [
    "# In case, you want to return only string\n",
    "from langchain_core.output_parsers import StrOutputParser\n",
    "# Output parser for the response\n",
    "output_parser = StrOutputParser()\n",
    "\n",
    "# Chain setup with model and output parser\n",
    "rag_chain = prompt | llm | output_parser\n",
    "\n",
    "rag_result = rag_chain.invoke({\n",
    "    \"context\": context,\n",
    "    \"question\": question\n",
    "})"
   ]
  },
  {
   "cell_type": "code",
   "execution_count": 28,
   "metadata": {},
   "outputs": [
    {
     "name": "stdout",
     "output_type": "stream",
     "text": [
      "The policy document is a comprehensive and detailed document that serves as evidence of the insurance contract between the insurer and the insured. It outlines all the terms and conditions of the insurance agreement, making it clear that the insured is purchasing the right to receive a sum of money at a future date, contingent upon the insured fulfilling their obligation to pay the premiums as scheduled.\n",
      "\n",
      "The preamble of the policy document clarifies that the policy is issued subject to the conditions and privileges printed on the back of the policy. Additionally, any endorsements placed on the policy are considered part of the contract, and the statements provided in the proposal form are foundational to the agreement.\n",
      "\n",
      "The policy document includes essential information such as the identification number of the policy, the name of the policyholder, the date of commencement, the beneficiary's name and address, the type of policy, and the details regarding premium payments. It is crucial for the policyholder to review this document carefully, as it outlines their rights and obligations, and any mistakes, particularly in the beneficiary's information, should be corrected promptly to avoid future complications.\n",
      "\n",
      "Overall, the policy document is a valuable and technical document that requires careful explanation and understanding, ensuring that both parties are aware of their commitments under the insurance contract.\n"
     ]
    }
   ],
   "source": [
    "print(rag_result)"
   ]
  },
  {
   "cell_type": "code",
   "execution_count": null,
   "metadata": {},
   "outputs": [],
   "source": []
  }
 ],
 "metadata": {
  "kernelspec": {
   "display_name": "Python 3",
   "language": "python",
   "name": "python3"
  },
  "language_info": {
   "codemirror_mode": {
    "name": "ipython",
    "version": 3
   },
   "file_extension": ".py",
   "mimetype": "text/x-python",
   "name": "python",
   "nbconvert_exporter": "python",
   "pygments_lexer": "ipython3",
   "version": "3.11.10"
  }
 },
 "nbformat": 4,
 "nbformat_minor": 2
}
