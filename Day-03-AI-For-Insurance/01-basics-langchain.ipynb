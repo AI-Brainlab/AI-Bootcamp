{
 "cells": [
  {
   "cell_type": "markdown",
   "id": "ef597741-3211-4ecc-92f7-f58023ee237e",
   "metadata": {},
   "source": [
    "# 01 Basic Chat model & Chain - Langchain"
   ]
  },
  {
   "cell_type": "markdown",
   "id": "9a8f92aa",
   "metadata": {},
   "source": [
    "## 1. Prerequisites\n",
    "\n",
    "- **Install Python** : Ensure that Python is installed on your system. You can download it from the official website: [Python Downloads](https://www.python.org/downloads/).\n",
    "\n",
    "- **Install Dependencies** : After installing Python, use `pip` to install the required dependencies:\n",
    "     ```bash\n",
    "     pip install -r requirements.txt\n",
    "     ```"
   ]
  },
  {
   "cell_type": "markdown",
   "id": "11efd770",
   "metadata": {},
   "source": [
    "## 2. Chat Models\n",
    "\n",
    "- In this course, we'll be utilizing [Chat Models](https://python.langchain.com/v0.2/docs/concepts/#chat-models), which process a series of messages as inputs and generate chat responses as outputs. LangChain itself doesn't host any Chat Models, so we rely on integrations with third-party services.\n",
    "- For this course, we'll primarily use [AzureChatOpenAI](https://python.langchain.com/v0.2/docs/integrations/chat/azure_chat_openai/) due to its popularity and performance. Please make sure you have the `OPENAI_API_VERSION`, `AZURE_OPENAI_ENDPOINT`, and `AZURE_OPENAI_API_KEY` set correctly.\n",
    "- Let's verify if your `OPENAI_API_VERSION`, `AZURE_OPENAI_ENDPOINT`, and `AZURE_OPENAI_API_KEY` are included in the `.env` file. If they're missing, you'll be prompted to provide them."
   ]
  },
  {
   "cell_type": "markdown",
   "id": "a326f35b",
   "metadata": {},
   "source": [
    "There are [a few standard parameters](https://python.langchain.com/v0.2/docs/concepts/#chat-models) for chat models, including:\n",
    "\n",
    "* `model`: the model name\n",
    "* `temperature`: controls randomness\n",
    "* `azure_deployment`: the name of your Azure deployment\n",
    "* `api_version`: specifies the API version\n",
    "* `api_key`: the API key for authentication\n",
    "* `azure_endpoint`: the Azure endpoint for the service\n",
    "\n",
    "A low `temperature` (close to 0) produces more deterministic, accurate responses, while a high `temperature` (close to 1) generates more creative and varied outputs. The other parameters help configure the model's deployment and access."
   ]
  },
  {
   "cell_type": "code",
   "execution_count": 13,
   "id": "e19a54d3",
   "metadata": {},
   "outputs": [],
   "source": [
    "import os\n",
    "from dotenv import load_dotenv\n",
    "from langchain_openai import AzureChatOpenAI\n",
    "\n",
    "# Step 1: Load environment variables from .env file\n",
    "load_dotenv(\".env\")\n",
    "\n",
    "# Step 2: Retrieve Azure OpenAI environment variables\n",
    "AZURE_OPENAI_ENDPOINT = os.getenv(\"AZURE_OPENAI_ENDPOINT\")\n",
    "AZURE_OPENAI_API_KEY = os.getenv(\"AZURE_OPENAI_API_KEY\")\n",
    "OPENAI_API_VERSION = os.getenv(\"OPENAI_API_VERSION\")\n",
    "\n",
    "model = AzureChatOpenAI(\n",
    "    azure_deployment= \"gpt-4o-mini\",  # Your Azure deployment\n",
    "    api_version     = OPENAI_API_VERSION,  # Your API version\n",
    "    api_key         = AZURE_OPENAI_API_KEY,\n",
    "    azure_endpoint  = AZURE_OPENAI_ENDPOINT,\n",
    "    temperature     = 0,\n",
    "    max_tokens      = None,\n",
    "    timeout         = None,\n",
    ")"
   ]
  },
  {
   "cell_type": "markdown",
   "id": "28450d1b",
   "metadata": {},
   "source": [
    "Chat models in LangChain have a number of [default methods](https://python.langchain.com/v0.2/docs/concepts/#runnable-interface). For the most part, we'll be using:\n",
    "\n",
    "* `stream`: stream back chunks of the response\n",
    "* `invoke`: call the chain on an input"
   ]
  },
  {
   "cell_type": "code",
   "execution_count": 14,
   "id": "f27c6c9a",
   "metadata": {},
   "outputs": [
    {
     "data": {
      "text/plain": [
       "AIMessage(content=\"Yes, insurance is generally considered important for several reasons:\\n\\n1. **Financial Protection**: Insurance provides a safety net against unexpected events, such as accidents, illnesses, or natural disasters. It helps cover costs that could otherwise lead to significant financial strain.\\n\\n2. **Risk Management**: By transferring the risk of loss to an insurance company, individuals and businesses can manage their exposure to potential financial setbacks.\\n\\n3. **Peace of Mind**: Knowing that you have insurance coverage can provide peace of mind, allowing you to focus on other aspects of your life or business without the constant worry of potential financial loss.\\n\\n4. **Legal Requirements**: Certain types of insurance, such as auto insurance or workers' compensation, are legally required in many places. Having the necessary coverage helps you comply with the law.\\n\\n5. **Access to Services**: Health insurance, for example, can provide access to necessary medical services that might otherwise be unaffordable.\\n\\n6. **Support for Recovery**: In the event of a loss, insurance can help individuals and businesses recover more quickly by providing the necessary funds to rebuild or replace what was lost.\\n\\n7. **Investment Protection**: For businesses, insurance can protect against losses that could jeopardize operations, ensuring continuity and stability.\\n\\nWhile insurance may seem like an added expense, the potential benefits and protections it offers often outweigh the costs. However, the importance of insurance can vary based on individual circumstances, needs, and risk tolerance.\", additional_kwargs={'refusal': None}, response_metadata={'token_usage': {'completion_tokens': 292, 'prompt_tokens': 13, 'total_tokens': 305, 'completion_tokens_details': {'accepted_prediction_tokens': 0, 'audio_tokens': 0, 'reasoning_tokens': 0, 'rejected_prediction_tokens': 0}, 'prompt_tokens_details': {'audio_tokens': 0, 'cached_tokens': 0}}, 'model_name': 'gpt-4o-mini-2024-07-18', 'system_fingerprint': 'fp_5154047bf2', 'prompt_filter_results': [{'prompt_index': 0, 'content_filter_results': {'hate': {'filtered': False, 'severity': 'safe'}, 'self_harm': {'filtered': False, 'severity': 'safe'}, 'sexual': {'filtered': False, 'severity': 'safe'}, 'violence': {'filtered': False, 'severity': 'safe'}}}], 'finish_reason': 'stop', 'logprobs': None, 'content_filter_results': {'hate': {'filtered': False, 'severity': 'safe'}, 'self_harm': {'filtered': False, 'severity': 'safe'}, 'sexual': {'filtered': False, 'severity': 'safe'}, 'violence': {'filtered': False, 'severity': 'safe'}}}, id='run-cf7dde18-2bab-44f3-a360-57ce4e13dab2-0', usage_metadata={'input_tokens': 13, 'output_tokens': 292, 'total_tokens': 305, 'input_token_details': {'audio': 0, 'cache_read': 0}, 'output_token_details': {'audio': 0, 'reasoning': 0}})"
      ]
     },
     "execution_count": 14,
     "metadata": {},
     "output_type": "execute_result"
    }
   ],
   "source": [
    "model.invoke(\"Does insurance important or not?\")"
   ]
  },
  {
   "cell_type": "code",
   "execution_count": 15,
   "id": "fdc2f0ca",
   "metadata": {},
   "outputs": [],
   "source": [
    "result = model.invoke(\"What factors should be considered if I want to purchase health insurance?\")"
   ]
  },
  {
   "cell_type": "code",
   "execution_count": 16,
   "id": "a5e08033",
   "metadata": {},
   "outputs": [
    {
     "name": "stdout",
     "output_type": "stream",
     "text": [
      "When considering the purchase of health insurance, several key factors should be taken into account to ensure you choose a plan that meets your needs and budget. Here are some important factors to consider:\n",
      "\n",
      "1. **Coverage Options**:\n",
      "   - **Types of Plans**: Understand the different types of health insurance plans available (e.g., HMO, PPO, EPO, POS) and how they work.\n",
      "   - **Essential Health Benefits**: Ensure the plan covers essential health benefits such as hospitalization, outpatient care, preventive services, maternity care, mental health services, and prescription drugs.\n",
      "\n",
      "2. **Premiums**:\n",
      "   - **Monthly Premium**: Consider how much you can afford to pay each month for coverage. This is the amount you pay regardless of whether you use medical services.\n",
      "\n",
      "3. **Deductibles**:\n",
      "   - **Annual Deductible**: Look at the deductible amount, which is the amount you must pay out-of-pocket before the insurance starts to cover costs. Higher deductibles often mean lower premiums.\n",
      "\n",
      "4. **Out-of-Pocket Costs**:\n",
      "   - **Co-pays and Co-insurance**: Understand the co-pays (fixed amounts for specific services) and co-insurance (percentage of costs you pay after meeting your deductible) associated with the plan.\n",
      "   - **Out-of-Pocket Maximum**: Check the maximum amount you would have to pay in a year before the insurance covers 100% of your costs.\n",
      "\n",
      "5. **Network of Providers**:\n",
      "   - **In-Network vs. Out-of-Network**: Review the network of doctors, hospitals, and specialists. Plans often have lower costs for in-network providers.\n",
      "   - **Access to Specialists**: Consider whether you need a referral to see a specialist and how easy it is to access the care you need.\n",
      "\n",
      "6. **Prescription Drug Coverage**:\n",
      "   - **Formulary**: Check if your medications are covered and at what cost. Look for a plan with a formulary that includes your prescriptions.\n",
      "\n",
      "7. **Preventive Services**:\n",
      "   - **Coverage for Preventive Care**: Ensure the plan covers preventive services (e.g., vaccinations, screenings) without additional costs.\n",
      "\n",
      "8. **Additional Benefits**:\n",
      "   - **Wellness Programs**: Some plans offer additional benefits like wellness programs, telehealth services, or discounts on gym memberships.\n",
      "\n",
      "9. **Customer Service and Support**:\n",
      "   - **Reputation of the Insurer**: Research the insurance company’s reputation for customer service, claims processing, and overall satisfaction.\n",
      "\n",
      "10. **Financial Stability**:\n",
      "    - **Insurer’s Financial Ratings**: Check the financial stability and ratings of the insurance company to ensure they can pay claims.\n",
      "\n",
      "11. **Life Changes**:\n",
      "    - **Future Needs**: Consider any upcoming life changes (e.g., marriage, having children, aging) that may affect your health care needs.\n",
      "\n",
      "12. **Legal Requirements**:\n",
      "    - **Compliance with Regulations**: Ensure the plan complies with local regulations and requirements, especially if you are in a country with specific health insurance mandates.\n",
      "\n",
      "13. **Enrollment Periods**:\n",
      "    - **Open Enrollment**: Be aware of open enrollment periods and special enrollment periods that may apply to you.\n",
      "\n",
      "By carefully evaluating these factors, you can make a more informed decision about which health insurance plan is best suited for your needs and financial situation.\n"
     ]
    }
   ],
   "source": [
    "print(result.content)"
   ]
  },
  {
   "cell_type": "markdown",
   "id": "e35c550a",
   "metadata": {},
   "source": [
    "- Chat models accept List[BaseMessage] ([messages](https://python.langchain.com/v0.2/docs/concepts/#messages)) as inputs, or objects which can be coerced to messages, including str (converted to `HumanMessage`) and PromptValue.\n",
    "- Messages have a role (that describes who is saying the message) and a content property."
   ]
  },
  {
   "cell_type": "code",
   "execution_count": 17,
   "id": "b1280e1b",
   "metadata": {},
   "outputs": [
    {
     "data": {
      "text/plain": [
       "AIMessage(content='Here are some notable insurance companies operating in Thailand:\\n\\n1. **Bangkok Insurance Public Company Limited**\\n2. **Thai Life Insurance Public Company Limited**\\n3. **Muang Thai Life Assurance Public Company Limited**\\n4. **Krungthai-AXA Life Insurance Public Company Limited**\\n5. **Generali Thailand**\\n6. **TQM Insurance Broker Co., Ltd.**\\n7. **Siam Commercial Bank (SCB) Life Assurance**\\n8. **Dhipaya Insurance Public Company Limited**\\n9. **Chubb Samaggi Insurance Public Company Limited**\\n10. **Allianz Ayudhya Assurance Public Company Limited**\\n\\nThese companies offer a range of insurance products, including life, health, property, and casualty insurance. Always check for the latest information and reviews when considering an insurance provider.', additional_kwargs={'refusal': None}, response_metadata={'token_usage': {'completion_tokens': 160, 'prompt_tokens': 22, 'total_tokens': 182, 'completion_tokens_details': {'accepted_prediction_tokens': 0, 'audio_tokens': 0, 'reasoning_tokens': 0, 'rejected_prediction_tokens': 0}, 'prompt_tokens_details': {'audio_tokens': 0, 'cached_tokens': 0}}, 'model_name': 'gpt-4o-mini-2024-07-18', 'system_fingerprint': 'fp_5154047bf2', 'prompt_filter_results': [{'prompt_index': 0, 'content_filter_results': {'hate': {'filtered': False, 'severity': 'safe'}, 'self_harm': {'filtered': False, 'severity': 'safe'}, 'sexual': {'filtered': False, 'severity': 'safe'}, 'violence': {'filtered': False, 'severity': 'safe'}}}], 'finish_reason': 'stop', 'logprobs': None, 'content_filter_results': {'hate': {'filtered': False, 'severity': 'safe'}, 'self_harm': {'filtered': False, 'severity': 'safe'}, 'sexual': {'filtered': False, 'severity': 'safe'}, 'violence': {'filtered': False, 'severity': 'safe'}}}, id='run-1d0bbef9-1e55-4b43-bdc8-7a9d1b00f8c4-0', usage_metadata={'input_tokens': 22, 'output_tokens': 160, 'total_tokens': 182, 'input_token_details': {'audio': 0, 'cache_read': 0}, 'output_token_details': {'audio': 0, 'reasoning': 0}})"
      ]
     },
     "execution_count": 17,
     "metadata": {},
     "output_type": "execute_result"
    }
   ],
   "source": [
    "from langchain_core.messages import HumanMessage, SystemMessage\n",
    "\n",
    "messages = [\n",
    "    SystemMessage(content=\"You're a helpful assistant\"),\n",
    "    HumanMessage(content=\"Please list insurance company in Thailand?\"),\n",
    "]\n",
    "\n",
    "# Invoke the model with a list of messages \n",
    "result = model.invoke(messages)\n",
    "result"
   ]
  },
  {
   "cell_type": "markdown",
   "id": "cac73e4c",
   "metadata": {},
   "source": [
    "We get an `AIMessage` response. Also, note that we can just invoke a chat model with a string. When a string is passed in as input, it is converted to a `HumanMessage` and then passed to the underlying model.\n"
   ]
  },
  {
   "cell_type": "code",
   "execution_count": 18,
   "id": "dbd5582e",
   "metadata": {},
   "outputs": [
    {
     "name": "stdout",
     "output_type": "stream",
     "text": [
      "Here are some notable insurance companies operating in Thailand:\n",
      "\n",
      "1. **Bangkok Insurance Public Company Limited**\n",
      "2. **Thai Life Insurance Public Company Limited**\n",
      "3. **Muang Thai Life Assurance Public Company Limited**\n",
      "4. **Krungthai-AXA Life Insurance Public Company Limited**\n",
      "5. **Generali Thailand**\n",
      "6. **TQM Insurance Broker Co., Ltd.**\n",
      "7. **Siam Commercial Bank (SCB) Life Assurance**\n",
      "8. **Dhipaya Insurance Public Company Limited**\n",
      "9. **Chubb Samaggi Insurance Public Company Limited**\n",
      "10. **Allianz Ayudhya Assurance Public Company Limited**\n",
      "\n",
      "These companies offer a range of insurance products, including life, health, property, and casualty insurance. Always check for the latest information and reviews when considering an insurance provider.\n"
     ]
    }
   ],
   "source": [
    "print(result.content)"
   ]
  },
  {
   "cell_type": "markdown",
   "id": "f208405f",
   "metadata": {},
   "source": [
    "## 3. Express Language\n",
    "LCEL makes it easy to build complex chains from basic components, and supports out of the box functionality such as streaming, parallelism, and logging."
   ]
  },
  {
   "cell_type": "code",
   "execution_count": 19,
   "id": "6253b25e",
   "metadata": {},
   "outputs": [
    {
     "data": {
      "text/plain": [
       "'In Thailand, the government provides a universal healthcare system known as the \"30 Baht Scheme,\" which allows citizens to access essential medical services for a nominal fee of 30 baht per visit. This scheme is part of the country\\'s efforts to ensure that all residents have access to basic healthcare services, although many Thais also opt for private health insurance to cover additional services and reduce wait times.'"
      ]
     },
     "execution_count": 19,
     "metadata": {},
     "output_type": "execute_result"
    }
   ],
   "source": [
    "from langchain_core.output_parsers import StrOutputParser\n",
    "from langchain_core.prompts import PromptTemplate\n",
    "\n",
    "# Create a prompt template for insurance-related query\n",
    "prompt = PromptTemplate(\n",
    "    template=\"Tell me a quick fact about insurance regarding {topic}\",\n",
    "    input_variables=['topic']\n",
    ")\n",
    "\n",
    "# Output parser for the response\n",
    "output_parser = StrOutputParser()\n",
    "\n",
    "# Chain setup with model and output parser\n",
    "chain = prompt | model | output_parser\n",
    "\n",
    "# Invoke with insurance-related topic\n",
    "chain.invoke({\"topic\": \"health insurance in Thailand\"})"
   ]
  },
  {
   "cell_type": "markdown",
   "id": "4478a92c",
   "metadata": {},
   "source": [
    "Notice this line of the code, where we piece together these different components into a single chain using LCEL:\n",
    "```bash\n",
    "chain = prompt | model | output_parser\n",
    "```"
   ]
  },
  {
   "cell_type": "markdown",
   "id": "6a07a645",
   "metadata": {},
   "source": [
    "### PromptTemplate\n",
    "\n",
    "Use PromptTemplate to create a template for a string prompt.\n",
    "It takes in a dictionary of template variables and produces a PromptValue. \n",
    "By default, PromptTemplate uses Python's str.format syntax for templating."
   ]
  },
  {
   "cell_type": "code",
   "execution_count": 20,
   "id": "afc64da6",
   "metadata": {},
   "outputs": [
    {
     "data": {
      "text/plain": [
       "'Tell me a quick fact about insurance regarding health insurance in Thailand'"
      ]
     },
     "execution_count": 20,
     "metadata": {},
     "output_type": "execute_result"
    }
   ],
   "source": [
    "prompt_value = prompt.invoke({\"topic\": \"health insurance in Thailand\"})\n",
    "prompt_value\n",
    "prompt_value.to_string()"
   ]
  },
  {
   "cell_type": "markdown",
   "id": "ef23cf8b",
   "metadata": {},
   "source": [
    "### Model\n",
    "The PromptValue is then passed to model. \n",
    "In this case our model is a ChatModel, meaning it will output a BaseMessage."
   ]
  },
  {
   "cell_type": "code",
   "execution_count": 21,
   "id": "474132de",
   "metadata": {},
   "outputs": [
    {
     "data": {
      "text/plain": [
       "AIMessage(content=\"In Thailand, the Universal Coverage Scheme (UCS) provides health insurance to over 48 million citizens, ensuring access to essential medical services. This scheme is part of the country's effort to provide affordable healthcare and reduce out-of-pocket expenses for its population.\", additional_kwargs={'refusal': None}, response_metadata={'token_usage': {'completion_tokens': 50, 'prompt_tokens': 19, 'total_tokens': 69, 'completion_tokens_details': {'accepted_prediction_tokens': 0, 'audio_tokens': 0, 'reasoning_tokens': 0, 'rejected_prediction_tokens': 0}, 'prompt_tokens_details': {'audio_tokens': 0, 'cached_tokens': 0}}, 'model_name': 'gpt-4o-mini-2024-07-18', 'system_fingerprint': 'fp_5154047bf2', 'prompt_filter_results': [{'prompt_index': 0, 'content_filter_results': {'hate': {'filtered': False, 'severity': 'safe'}, 'self_harm': {'filtered': False, 'severity': 'safe'}, 'sexual': {'filtered': False, 'severity': 'safe'}, 'violence': {'filtered': False, 'severity': 'safe'}}}], 'finish_reason': 'stop', 'logprobs': None, 'content_filter_results': {'hate': {'filtered': False, 'severity': 'safe'}, 'self_harm': {'filtered': False, 'severity': 'safe'}, 'sexual': {'filtered': False, 'severity': 'safe'}, 'violence': {'filtered': False, 'severity': 'safe'}}}, id='run-46b96122-9eff-4e2b-a6b1-ffce4170c66c-0', usage_metadata={'input_tokens': 19, 'output_tokens': 50, 'total_tokens': 69, 'input_token_details': {'audio': 0, 'cache_read': 0}, 'output_token_details': {'audio': 0, 'reasoning': 0}})"
      ]
     },
     "execution_count": 21,
     "metadata": {},
     "output_type": "execute_result"
    }
   ],
   "source": [
    "message = model.invoke(prompt_value)\n",
    "message"
   ]
  },
  {
   "cell_type": "markdown",
   "id": "8763179f",
   "metadata": {},
   "source": [
    "### Output parser\n",
    "We pass our model output to the output_parser, which is a BaseOutputParser meaning it takes either a string or a BaseMessage as input. The specific StrOutputParser simply converts any input into a string."
   ]
  },
  {
   "cell_type": "code",
   "execution_count": 22,
   "id": "d94fde82",
   "metadata": {},
   "outputs": [
    {
     "data": {
      "text/plain": [
       "\"In Thailand, the Universal Coverage Scheme (UCS) provides health insurance to over 48 million citizens, ensuring access to essential medical services. This scheme is part of the country's effort to provide affordable healthcare and reduce out-of-pocket expenses for its population.\""
      ]
     },
     "execution_count": 22,
     "metadata": {},
     "output_type": "execute_result"
    }
   ],
   "source": [
    "output_parser.invoke(message)"
   ]
  },
  {
   "cell_type": "markdown",
   "id": "17d5e647",
   "metadata": {},
   "source": [
    "## 4. JSON parser\n",
    "This output parser allows users to specify an arbitrary JSON schema and query LLMs for outputs that conform to that schema.\n",
    "\n",
    "Keep in mind that large language models are leaky abstractions! You'll have to use an LLM with sufficient capacity to generate well-formed JSON. "
   ]
  },
  {
   "cell_type": "code",
   "execution_count": 23,
   "id": "f88a7cdc",
   "metadata": {},
   "outputs": [
    {
     "name": "stdout",
     "output_type": "stream",
     "text": [
      "{'product_name': 'HealthGuard Insurance', 'coverage_details': 'Comprehensive protection including hospital stays, surgeries, doctor visits, emergency services, preventive health care like vaccinations and health check-ups.', 'premium_info': 'Premium starts at just $200 per year for an individual, with discounts for family plans.', 'target_audience': 'Anyone seeking affordable and reliable health insurance with excellent coverage.', 'benefits': 'Easy claim process, extensive network of healthcare providers, and 24/7 customer support.'}\n"
     ]
    }
   ],
   "source": [
    "from langchain_core.output_parsers import JsonOutputParser\n",
    "from langchain_core.prompts import PromptTemplate\n",
    "from langchain_core.pydantic_v1 import BaseModel, Field\n",
    "\n",
    "# Define the data structure for an insurance promotion brochure.\n",
    "class InsuranceBrochure(BaseModel):\n",
    "    product_name: str = Field(description=\"name of the insurance product\")\n",
    "    coverage_details: str = Field(description=\"details about the coverage offered\")\n",
    "    premium_info: str = Field(description=\"details about the premium costs\")\n",
    "    target_audience: str = Field(description=\"intended audience for the insurance product\")\n",
    "    benefits: str = Field(description=\"key benefits of the insurance product\")\n",
    "\n",
    "# And a query intended to prompt a language model to populate the data structure.\n",
    "brochure_query = \"\"\"\n",
    "Our new HealthGuard Insurance is designed to offer comprehensive protection for you and your family. \n",
    "The product provides wide coverage including hospital stays, surgeries, doctor visits, and emergency services. \n",
    "It also covers preventive health care like vaccinations and health check-ups. \n",
    "The premium starts at just $200 per year for an individual, with discounts for family plans. \n",
    "The target audience for this plan is anyone seeking affordable and reliable health insurance with excellent coverage. \n",
    "Key benefits include easy claim process, extensive network of healthcare providers, and 24/7 customer support.\n",
    "\"\"\"\n",
    "\n",
    "# Set up a parser and inject instructions into the prompt template.\n",
    "parser = JsonOutputParser(pydantic_object=InsuranceBrochure)\n",
    "\n",
    "prompt = PromptTemplate(\n",
    "    template=\"Extract the necessary details for the insurance brochure.\\n{format_instructions}\\n{query}\\n\",\n",
    "    input_variables=[\"query\"],\n",
    "    partial_variables={\"format_instructions\": parser.get_format_instructions()},\n",
    ")\n",
    "\n",
    "# Assume `model` is defined somewhere in your workflow, e.g., GPT-3 model\n",
    "chain = prompt | model | parser\n",
    "brochure_info = chain.invoke({\"query\": brochure_query})\n",
    "\n",
    "# Display the result\n",
    "print(brochure_info)"
   ]
  },
  {
   "cell_type": "markdown",
   "id": "a8071a37",
   "metadata": {},
   "source": [
    "## Workshop: Structuring Personal Medical Information (10mins)"
   ]
  },
  {
   "cell_type": "markdown",
   "id": "caa99db5",
   "metadata": {},
   "source": [
    "### **Scenario**: **Verifying health customer**\n",
    "You are building a system to handle medical records where personal medical information needs to be extracted from unstructured text documents. This system will allow healthcare providers to easily categorize and process patient data based on their needs. Your task is to define a structured format for storing key medical information extracted from a patient's medical record.\n",
    "\n",
    "### **Given Query**:\n",
    "Here’s an example of a patient's medical document text:\n",
    "\n",
    "```bash\n",
    "Patient Name: John Doe\n",
    "Date of Birth: 1985-06-15\n",
    "Gender: Male\n",
    "Medical History: John has a history of asthma and seasonal allergies. He underwent a knee surgery in 2018 due to an accident. No known chronic conditions or heart disease. \n",
    "Medications: Currently using Ventolin inhaler for asthma as needed. No regular medications.\n",
    "Allergies: Allergic to penicillin.\n",
    "Emergency Contact: Jane Doe (Wife), 555-1234\n",
    "Primary Care Physician: Dr. Smith, General Practitioner, ABC Health Clinic.\n",
    "```\n",
    "\n",
    "### **Instructions**:\n",
    "1. **Understand the Scenario**: \n",
    "   - In this workshop, your task is to convert the medical document into a structured format that the system can process and store in a database.\n",
    "   - Think about the key pieces of information you would need for a medical record (e.g., patient’s name, medical history, medications, allergies, etc.).\n",
    "\n",
    "2. **Define the Data Structure**: \n",
    "   - Based on the given medical document, define a **Pydantic** data model that will represent the important attributes of a patient’s record.\n",
    "   - Consider what fields should be included, such as **name**, **date of birth**, **gender**, **medical history**, **medications**, **allergies**, **emergency contact**, and **primary care physician**.\n",
    "\n",
    "3. **Use the Data Model**: \n",
    "   - Your Pydantic model should reflect the data in the medical document.\n",
    "   - Once you've defined the data structure, create a prompt that can be used to extract the necessary details from medical documents in the future.\n",
    "\n",
    "4. **Key Questions**:\n",
    "   - What fields would be critical for storing a patient’s medical information?\n",
    "   - How can you ensure that this model can handle additional fields in the future (e.g., for future conditions, treatments, or insurance information)?\n",
    "\n",
    "### **Deliverables**:\n",
    "- Define a Pydantic data model for the personal medical information.\n",
    "- Provide a structured list of fields that should be included in the model (e.g., name, DOB, medications, allergies, etc.)."
   ]
  },
  {
   "cell_type": "code",
   "execution_count": 24,
   "id": "0e6238e3",
   "metadata": {},
   "outputs": [
    {
     "name": "stdout",
     "output_type": "stream",
     "text": [
      "{}\n"
     ]
    }
   ],
   "source": [
    "### Example Solution:\n",
    "from langchain_core.output_parsers import JsonOutputParser\n",
    "from langchain_core.prompts import PromptTemplate\n",
    "from langchain_core.pydantic_v1 import BaseModel, Field\n",
    "\n",
    "# Define the data structure for Personal Medical Information.\n",
    "class MedicalRecord(BaseModel):\n",
    "    pass\n",
    "\n",
    "# Given query (patient medical document).\n",
    "medical_document = \"\"\"\n",
    "Patient Name: John Doe\n",
    "Date of Birth: 1985-06-15\n",
    "Gender: Male\n",
    "Medical History: John has a history of asthma and seasonal allergies. He underwent a knee surgery in 2018 due to an accident. No known chronic conditions or heart disease. \n",
    "Medications: Currently using Ventolin inhaler for asthma as needed. No regular medications.\n",
    "Allergies: Allergic to penicillin.\n",
    "Emergency Contact: Jane Doe (Wife), 555-1234\n",
    "Primary Care Physician: Dr. Smith, General Practitioner, ABC Health Clinic.\n",
    "\"\"\"\n",
    "\n",
    "# Set up the JsonOutputParser and the prompt template.\n",
    "parser = JsonOutputParser(pydantic_object=MedicalRecord)\n",
    "\n",
    "template = \"Extract the necessary details from the medical record.\\n{format_instructions}\\n{query}\\n\"\n",
    "\n",
    "prompt = PromptTemplate(\n",
    "    template=template,\n",
    "    input_variables=[\"query\"],\n",
    "    partial_variables={\"format_instructions\": parser.get_format_instructions()},\n",
    ")\n",
    "\n",
    "# Assuming the model is defined in your pipeline\n",
    "chain = prompt | model | parser\n",
    "medical_info = chain.invoke({\"query\": medical_document})\n",
    "\n",
    "# Display the extracted information\n",
    "print(medical_info)"
   ]
  },
  {
   "cell_type": "markdown",
   "id": "d172cfff",
   "metadata": {},
   "source": [
    "## Workshop: Prompt Engineering for an Insurance Assistant"
   ]
  },
  {
   "cell_type": "markdown",
   "id": "b3d4cf16",
   "metadata": {},
   "source": [
    "### Scenario: **Insurance Inquiry Assistant** (15mins)\n",
    "\n",
    "You are building a chatbot for an insurance company that helps users quickly get information about various insurance policies. Your task is to create prompts and integrate them into a chain for effective responses.\n",
    "\n",
    "### Instruction:\n",
    "\n",
    "1. **Create a Prompt Template**:\n",
    "   - Imagine you are an assistant helping users understand insurance policies. Write a prompt that asks for detailed information about a specific type of insurance in a specific country.\n",
    "   - Example: \"You are an assistant helping a customer. Respond with a detailed explanation of the coverage for {topic} insurance in {country}. Make sure to include key benefits, eligibility, and coverage details.\"\n",
    "\n",
    "2. **Connect Prompt to Chain**:\n",
    "   - Link your prompt to a chain, where the assistant’s response should include information about the chosen topic and country.\n",
    "   - Use `chain.invoke()` to test with different topics like \"health insurance,\" \"life insurance,\" or \"car insurance\" and countries like \"Thailand,\" \"USA,\" or \"UK.\"\n",
    "\n",
    "### **Deliverables**:\n",
    "- Think about the information a customer would need when asking about an insurance policy. Include coverage details, eligibility, and other important aspects.\n",
    "- Try to modify the prompt template to provide responses that are helpful, concise, and clear."
   ]
  },
  {
   "cell_type": "code",
   "execution_count": 27,
   "id": "e54afcd2",
   "metadata": {},
   "outputs": [
    {
     "name": "stdout",
     "output_type": "stream",
     "text": [
      "Certainly! Here’s a detailed explanation of health insurance policies in Thailand, covering the key aspects you requested:\n",
      "\n",
      "### Coverage\n",
      "Health insurance policies in Thailand typically cover a range of medical services and treatments, including:\n",
      "\n",
      "- **Inpatient Care**: Hospital stays, surgeries, and treatments requiring overnight admission.\n",
      "- **Outpatient Care**: Doctor visits, specialist consultations, diagnostic tests, and minor procedures that do not require hospitalization.\n",
      "- **Emergency Services**: Ambulance services and emergency room visits.\n",
      "- **Preventive Care**: Vaccinations, health check-ups, and screenings.\n",
      "- **Maternity Care**: Prenatal and postnatal care, childbirth, and related services.\n",
      "- **Chronic Illness Management**: Ongoing treatment for chronic conditions like diabetes or hypertension.\n",
      "- **Prescription Medications**: Coverage for prescribed medications, often with limits.\n",
      "- **Rehabilitation Services**: Physical therapy and rehabilitation after surgery or injury.\n",
      "\n",
      "### Eligibility\n",
      "Eligibility for health insurance in Thailand generally includes:\n",
      "\n",
      "- **Age**: Most policies have age limits, often covering individuals from newborns to seniors (up to 70-75 years old). Some policies may have specific plans for children or seniors.\n",
      "- **Residency**: Typically, you must be a resident of Thailand or hold a valid visa. Some insurers may offer policies to expatriates or tourists.\n",
      "- **Medical Conditions**: Pre-existing conditions may affect eligibility or result in higher premiums. Some insurers may exclude certain pre-existing conditions for a specified period.\n",
      "\n",
      "### Exclusions\n",
      "Common exclusions in health insurance policies may include:\n",
      "\n",
      "- **Pre-existing Conditions**: Conditions diagnosed before the policy start date may not be covered.\n",
      "- **Cosmetic Procedures**: Treatments for aesthetic purposes, such as plastic surgery, are usually excluded.\n",
      "- **Experimental Treatments**: New or unproven medical procedures may not be covered.\n",
      "- **Self-inflicted Injuries**: Injuries resulting from self-harm or substance abuse.\n",
      "- **War and Terrorism**: Injuries or illnesses resulting from acts of war or terrorism may be excluded.\n",
      "- **Non-medical Expenses**: Costs related to accommodation, travel, or food during hospitalization.\n",
      "\n",
      "### Benefits\n",
      "Key benefits of health insurance policies in Thailand include:\n",
      "\n",
      "- **Comprehensive Coverage**: Many policies offer extensive coverage for a wide range of medical services.\n",
      "- **Network of Hospitals**: Access to a large network of hospitals and clinics, often with cashless treatment options.\n",
      "- **24/7 Customer Support**: Assistance available around the clock for emergencies and inquiries.\n",
      "- **Flexible Plans**: Options to customize coverage based on individual needs, including add-ons for dental or vision care.\n",
      "- **International Coverage**: Some policies offer coverage for treatments abroad, which is beneficial for expatriates or travelers.\n",
      "\n",
      "### Premium Info\n",
      "The cost of health insurance in Thailand varies based on several factors:\n",
      "\n",
      "- **Age and Health Status**: Younger, healthier individuals typically pay lower premiums.\n",
      "- **Coverage Amount**: Higher coverage limits result in higher premiums.\n",
      "- **Policy Type**: Individual vs. family plans, and comprehensive vs. basic coverage options.\n",
      "- **Payment Options**: Premiums can usually be paid monthly, quarterly, or annually. Some insurers offer discounts for annual payments or for bundling multiple policies.\n",
      "\n",
      "### Claims Process\n",
      "Filing a claim for health insurance in Thailand generally involves the following steps:\n",
      "\n",
      "1. **Seek Medical Treatment**: Visit a network hospital or clinic. If it’s an emergency, seek immediate care.\n",
      "2. **Notify the Insurer**: Inform your insurance provider about the treatment as soon as possible, especially for inpatient care.\n",
      "3. **Gather Documentation**: Collect necessary documents, including medical reports, invoices, and receipts.\n",
      "4. **Submit the Claim**: Fill out the claim form provided by the insurer and submit it along with the required documents.\n",
      "5. **Claim Review**: The insurer will review the claim and may request additional information.\n",
      "6. **Claim Settlement**: Once approved, the insurer will reimburse you or settle the payment directly with the healthcare provider.\n",
      "\n",
      "### Conclusion\n",
      "Understanding the specifics of health insurance policies in Thailand is crucial for making an informed decision. Be sure to compare different policies, read the terms and conditions carefully, and consider your personal health needs and financial situation before choosing a plan. If you have any further questions or need assistance, feel free to ask!\n"
     ]
    }
   ],
   "source": [
    "from langchain_core.output_parsers import StrOutputParser\n",
    "from langchain_core.prompts import PromptTemplate\n",
    "\n",
    "# Output parser for the response\n",
    "output_parser = StrOutputParser()\n",
    "\n",
    "# Write the prompt template\n",
    "template = \"\"\"\n",
    "\n",
    "\"\"\"\n",
    "\n",
    "prompt = PromptTemplate(\n",
    "    template=template,\n",
    "    input_variables=[]\n",
    ")\n",
    "\n",
    "# Set up the chain\n",
    "chain = prompt | model | output_parser\n",
    "\n",
    "# Invoke the chain with specific queries\n",
    "response_health_thailand = chain.invoke({})\n",
    "print(response_health_thailand)"
   ]
  },
  {
   "cell_type": "markdown",
   "id": "6c74bfb2",
   "metadata": {},
   "source": [
    "## Appendix"
   ]
  },
  {
   "cell_type": "markdown",
   "id": "a35f7a62",
   "metadata": {},
   "source": [
    "### Corporate Company\n",
    "#### good prompt \n",
    "\n",
    "**Context**\n",
    "I'm a brand manager at Plantae, a Thai brand and products are available in Thailand only. I am developing a marketing campaign to drive the adoption of Plantae's new ready-to-drink plant-based protein product in convenience stores. For now, I'm struggling to write a good KOL brief for presenting the product. I need your help in doing this.\n",
    "\n",
    "**Role and Backstory**\n",
    "- Role: Thai expert influencer marketer\n",
    "- Backstory: You have 10 years of experience working in an influencer marketing agency and directly with brands. You know exactly how to write a concise and creative KOL briefing to get a very satisfying outcome from KOLs in any post format.\n",
    "  \n",
    "**Key Information for Briefing KOL**\n",
    "1. Key Message: \"Plantae, Bottled Plant-Based Protein Drink\"\n",
    "2. Product: Ready-to-drink bottled plant-based protein.\n",
    "  - Unique Selling Point 1: \"Tasty Plant-Based Protein\"\n",
    "  - Unique Selling Point 2: \"Available at 7-Eleven\"\n",
    "  - Unique Selling Point 3: \"Healthy Option\"\n",
    "1. Sale Channel: Convenience Store\n",
    "2. Mood & Tone:\n",
    "  - Mood: Tasty, Healthy, Environmentally Friendly, and Convenient. An influencer post aims to acknowledge consumers that they can be healthier and more environmentally friendly by easily grabbing this drink in every convenience store.\n",
    "  - Tone: Conversational and encouraging. The KOL should speak to the audience in a friendly and personal manner, explaining why people should give it a try and what are the personal\n",
    "1. Color Theme: #084838, #086858, and #E8F8E8\n",
    "2. Hashtag: #PlantaeOnTheGo\n",
    "3. Post Format: Instagram image post.\n",
    "\n",
    "**Instruction**\n",
    "Could you create 3 KOL breifing with different unique selling points?\n",
    "\n",
    "**Expected Outcome of Each KOL Brief**\n",
    "- Key Message:\n",
    "- Product:\n",
    "- Unique Sellina Point: (Onlv one exact unique sellina point that I have aiven to vou).\n",
    "- Mood & Tone: (Emotionally describe \"Mood\" and \"Tone\" separately)\n",
    "- Color Theme: (Explain each color in simple English and also visually create the colors as a palette)\n",
    "- Hashtag:\n",
    "- Post Format:\n",
    "\n",
    "#### bad prompt\n",
    "\n",
    "Could you create 3 KOL briefs for Plantae's ready-to-drink products' Instagram posts, focusing on their unique selling points tasty plant-based protein, availability at 7-Eleven, and being a healthy option"
   ]
  },
  {
   "cell_type": "markdown",
   "id": "652cb7d4",
   "metadata": {},
   "source": [
    "### Insurance Industry\n",
    "#### Good Prompt:\n",
    "\n",
    "**Context**  \n",
    "I'm the marketing manager for Muang Thai Life Assurance, a well-established Thai insurance company. We are launching a new life insurance product targeting young professionals aged 25-40 who are looking for affordable coverage to protect their future. I need your help to write a creative KOL brief for promoting this product on social media. \n",
    "\n",
    "**Role and Backstory**  \n",
    "- Role: Expert influencer marketer with experience in insurance and financial services.  \n",
    "- Backstory: You have worked with leading insurance brands for over 8 years, developing campaigns that connect emotionally with young audiences and clearly explain the importance of securing their future.\n",
    "\n",
    "**Key Information for Briefing KOL**  \n",
    "1. **Key Message**: \"Protect Your Future with Muang Thai Life Assurance\"\n",
    "2. **Product**: Affordable Life Insurance for Young Professionals  \n",
    "   - **Unique Selling Point 1**: \"Affordable monthly premiums for young professionals\"\n",
    "   - **Unique Selling Point 2**: \"Coverage tailored for life's unpredictable moments\"\n",
    "   - **Unique Selling Point 3**: \"Easy application process with fast approval\"\n",
    "3. **Target Audience**: Young professionals aged 25-40\n",
    "4. **Mood & Tone**:\n",
    "   - **Mood**: Empowering, Secure, Trustworthy. The influencer should make the audience feel confident in their decision to secure their future, knowing they're protected by Muang Thai Life Assurance.\n",
    "   - **Tone**: Friendly, Relatable, and Reassuring. The influencer should speak as if offering personal advice, encouraging young professionals to think ahead about their security and wellbeing.\n",
    "5. **Color Theme**:  \n",
    "   - **Primary Color**: #003B4D (Deep Blue) – Represents trust, security, and stability.  \n",
    "   - **Secondary Color**: #FFB71B (Golden Yellow) – Evokes optimism, warmth, and financial growth.  \n",
    "   - **Accent Color**: #F1F1F1 (Soft White) – Clean, approachable, and professional.\n",
    "6. **Hashtag**: #SecureYourFutureWithMTL\n",
    "7. **Post Format**: Instagram Carousel Post\n",
    "\n",
    "**Expected Outcome**  \n",
    "- **Key Message**: \"Protect Your Future with Muang Thai Life Assurance\"  \n",
    "- **Product**: Affordable Life Insurance for Young Professionals  \n",
    "- **Unique Selling Point**: Affordable monthly premiums for young professionals  \n",
    "- **Mood & Tone**:  \n",
    "   - **Mood**: Empowering, Secure, Trustworthy  \n",
    "   - **Tone**: Friendly, Relatable, Reassuring  \n",
    "- **Color Theme**:  \n",
    "   - **#003B4D** (Deep Blue) – Trust and stability  \n",
    "   - **#FFB71B** (Golden Yellow) – Optimism and growth  \n",
    "   - **#F1F1F1** (Soft White) – Clean and professional  \n",
    "- **Hashtag**: #SecureYourFutureWithMTL  \n",
    "- **Post Format**: Instagram Carousel Post\n",
    "\n",
    "\n",
    "#### Bad Prompt:\n",
    "\n",
    "Could you create 3 KOL briefs for Muang Thai Life Assurance’s insurance products, focusing on the affordable premiums, easy application, and coverage options?"
   ]
  },
  {
   "cell_type": "markdown",
   "id": "9b23d922",
   "metadata": {},
   "source": []
  }
 ],
 "metadata": {
  "kernelspec": {
   "display_name": "Python 3 (ipykernel)",
   "language": "python",
   "name": "python3"
  },
  "language_info": {
   "codemirror_mode": {
    "name": "ipython",
    "version": 3
   },
   "file_extension": ".py",
   "mimetype": "text/x-python",
   "name": "python",
   "nbconvert_exporter": "python",
   "pygments_lexer": "ipython3",
   "version": "3.11.10"
  }
 },
 "nbformat": 4,
 "nbformat_minor": 5
}
