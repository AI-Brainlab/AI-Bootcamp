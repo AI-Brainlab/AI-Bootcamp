{
 "cells": [
  {
   "cell_type": "markdown",
   "id": "e39595f8-7293-4125-af89-68cef08032d5",
   "metadata": {},
   "source": [
    "# 03 - Auto Insurance Claim Processing Workflow\n",
    "\n",
    "- **Parse the Claim Document**: Extract key fields (claim number, date of loss, claimant name, policy number, loss description, estimated damage costs).\n",
    "- **Index/Load Insurance Policy Documents**: Use Langchain to index the insurance policy documents and make them retrievable for querying.\n",
    "- **Generate Relevant Queries**: Based on the extracted claim details, construct vector-based queries using Langchain's query generation capabilities to retrieve relevant coverage sections from the indexed policy documents.\n",
    "- **Match Conditions Against Policy**: Use Langchain with LLMs (Large Language Models) to reason whether the claim is covered, determine applicable deductibles, identify any special endorsements, and suggest the recommended settlement amount.\n",
    "- **Produce a Structured Output**: Summarize the final recommended settlement and conditions for payment in a clear, structured format for further processing."
   ]
  },
  {
   "cell_type": "code",
   "execution_count": 1,
   "id": "338d2099",
   "metadata": {},
   "outputs": [],
   "source": [
    "import os\n",
    "from dotenv import load_dotenv\n",
    "\n",
    "# Step 1: Load environment variables from .env file\n",
    "load_dotenv()\n",
    "\n",
    "# Step 2: Retrieve Azure OpenAI environment variables\n",
    "AZURE_OPENAI_ENDPOINT = os.getenv(\"AZURE_OPENAI_ENDPOINT\")\n",
    "AZURE_OPENAI_API_KEY = os.getenv(\"AZURE_OPENAI_API_KEY\")\n",
    "OPENAI_API_VERSION = os.getenv(\"OPENAI_API_VERSION\")\n",
    "\n",
    "from langchain_openai import AzureChatOpenAI, AzureOpenAIEmbeddings\n",
    "\n",
    "llm = AzureChatOpenAI(\n",
    "    azure_deployment=\"gpt-4o-mini\",  # Your Azure deployment\n",
    "    api_version=OPENAI_API_VERSION,  # Your API version\n",
    "    api_key=AZURE_OPENAI_API_KEY,\n",
    "    azure_endpoint=AZURE_OPENAI_ENDPOINT,\n",
    "    temperature=0,\n",
    "    max_tokens=None,\n",
    "    timeout=None,\n",
    "    max_retries=2,\n",
    ")\n",
    "\n",
    "embeddings = AzureOpenAIEmbeddings(\n",
    "    api_version=OPENAI_API_VERSION,\n",
    "    api_key=AZURE_OPENAI_API_KEY,\n",
    "    azure_endpoint=AZURE_OPENAI_ENDPOINT,\n",
    ")\n"
   ]
  },
  {
   "cell_type": "markdown",
   "id": "84cf6490",
   "metadata": {},
   "source": [
    "## Retriever \n",
    "A retriever is an interface that returns documents given an unstructured query. It is more general than a vector store. A retriever does not need to be able to store documents, only to return (or retrieve) them. Vector stores can be used as the backbone of a retriever, but there are other types of retrievers as well.\n",
    "\n",
    "### Loading the Claim Document\n",
    "In a real scenario, we’d have a PDF or text form with claim details. For this demonstration, we assume we have a JSON file containing claim data."
   ]
  },
  {
   "cell_type": "code",
   "execution_count": 2,
   "id": "50278aa5",
   "metadata": {},
   "outputs": [],
   "source": [
    "# Uncomment the following line if you need to initialize FAISS with no AVX2 optimization\n",
    "# os.environ['FAISS_NO_AVX2'] = '1'\n",
    "\n",
    "from langchain_community.document_loaders import TextLoader\n",
    "from langchain_community.vectorstores import FAISS\n",
    "\n",
    "# Initialize an empty list to hold all documents\n",
    "all_documents = []\n",
    "\n",
    "# List of file paths\n",
    "file_paths = [\"data/john-declarations.md\", \"data/alice-declarations.md\"]\n",
    "\n",
    "# Loop through each file path\n",
    "for file_path in file_paths:\n",
    "    loader = TextLoader(file_path=file_path)\n",
    "    documents = loader.load()\n",
    "    all_documents.extend(documents)  # Append the documents to the list\n",
    "\n",
    "# After loop, create the vector store from all documents\n",
    "vector_store = FAISS.from_documents(all_documents, embeddings)"
   ]
  },
  {
   "cell_type": "code",
   "execution_count": 3,
   "id": "9cd86bd8",
   "metadata": {},
   "outputs": [],
   "source": [
    "def get_declarations_docs(policy_number: str, top_k: int = 1):\n",
    "    \"\"\"Retrieve declarations pages for a given policy number.\"\"\"\n",
    "    # Create the retriever with the metadata filter\n",
    "    retriever = vector_store.as_retriever(search_kwargs={\"k\": top_k})\n",
    "    # Perform the retrieval\n",
    "    docs = retriever.invoke(f\"declarations page for {policy_number}\")\n",
    "    return docs"
   ]
  },
  {
   "cell_type": "code",
   "execution_count": 4,
   "id": "ef456563",
   "metadata": {},
   "outputs": [
    {
     "name": "stdout",
     "output_type": "stream",
     "text": [
      "1\n"
     ]
    }
   ],
   "source": [
    "# try it out \n",
    "docs = get_declarations_docs(\"POLICY-ABC123\")\n",
    "print(len(docs))"
   ]
  },
  {
   "cell_type": "code",
   "execution_count": 5,
   "id": "9621281e",
   "metadata": {},
   "outputs": [
    {
     "name": "stdout",
     "output_type": "stream",
     "text": [
      "# CALIFORNIA PERSONAL AUTO POLICY DECLARATIONS PAGE\n",
      "**Policy Number:** CAP-ABC123-01  \n",
      "**Policy Period:** 01/01/2024 to 07/01/2024  \n",
      "(12:01 A.M. standard time at the address below)\n",
      "\n",
      "**Named Insured:**  \n",
      "John Smith  \n",
      "456 Delivery Lane  \n",
      "San Francisco, CA 94112\n",
      "\n",
      "**Vehicle Information:**  \n",
      "Vehicle: 2022 Honda Civic LX Sedan  \n",
      "VIN: 2HGFE2F54NH123456  \n",
      "Principal Operator: John Smith  \n",
      "Usage: Personal\n",
      "\n",
      "**Coverages and Premiums:**\n",
      "\n",
      "- Bodily Injury Liability: $100,000/$300,000 [$450]\n",
      "- Property Damage Liability: $50,000 [$295]\n",
      "- Medical Payments: $5,000 [$80]\n",
      "- Uninsured/Underinsured Motorist: $100,000/$300,000 [$115]\n",
      "- Collision Coverage: $500 deductible [$425]\n",
      "- Other Than Collision: $250 deductible [$210]\n",
      "- Rental Reimbursement: $30/day, max $900 [$30]\n",
      "- Towing and Labor: $75 per disablement [$20]\n",
      "\n",
      "**Total Semi-Annual Premium:** $1,625\n",
      "\n",
      "**Discounts Applied:**\n",
      "- Safe Driver Discount\n",
      "- Anti-theft Device Discount\n",
      "- Automatic Payment Discount\n",
      "\n",
      "**Forms and Endorsements:**\n",
      "- CAIP400 (03012006) - Personal Auto Policy\n",
      "- CA401 - Towing and Labor Costs Coverage\n",
      "- CA405 - Rental Reimbursement Coverage\n",
      "- CA410 - Pollution Exclusion\n",
      "\n",
      "**Loss Payee/Additional Interest:**\n",
      "Honda Financial Services  \n",
      "Account #: HFS-123456789  \n",
      "P.O. Box 44444  \n",
      "Dallas, TX 75202\n",
      "\n",
      "**Special Provisions:**\n",
      "This is a summary of your coverages. Please refer to your policy for complete details of coverage, conditions, and exclusions.\n",
      "\n"
     ]
    }
   ],
   "source": [
    "print(docs[0].page_content)"
   ]
  },
  {
   "cell_type": "markdown",
   "id": "74532ae3",
   "metadata": {},
   "source": [
    "## Prompts\n",
    "### Generating Policy Queries\n",
    "We prompt the LLM to generate queries for retrieving relevant policy sections. For example:\n",
    "\n",
    "- Coverage conditions for collision damage.\n",
    "- Deductible conditions.\n",
    "- Any special endorsements for rental coverage or waived deductible scenarios."
   ]
  },
  {
   "cell_type": "code",
   "execution_count": 6,
   "id": "f79a9dc6",
   "metadata": {},
   "outputs": [],
   "source": [
    "GENERATE_POLICY_QUERIES_PROMPT = \"\"\"\n",
    "You are an assistant tasked with determining what insurance policy sections to consult for a given auto claim.\n",
    "\n",
    "**Instructions:**\n",
    "1. Review the claim data, including the type of loss (rear-end collision), estimated repair cost, and policy number.\n",
    "2. Identify what aspects of the policy we need:\n",
    "   - Collision coverage conditions\n",
    "   - Deductible application\n",
    "   - Any special endorsements related to rear-end collisions or no-fault scenarios\n",
    "3. Produce 3-5 queries that can be used against a vector index of insurance policies to find relevant clauses.\n",
    "\n",
    "Claim Data:\n",
    "{claim_info}\n",
    "\n",
    "Return a JSON object matching the PolicyQueries schema.\n",
    "{format_instructions}\n",
    "\"\"\""
   ]
  },
  {
   "cell_type": "markdown",
   "id": "7e7bea2b",
   "metadata": {},
   "source": [
    "### Policy Recommendation Prompt\n",
    "Once we have queries, we’ll run them against the policy index, retrieve the text, and feed it back to the LLM to produce a PolicyRecommendation."
   ]
  },
  {
   "cell_type": "code",
   "execution_count": 7,
   "id": "5b6d703b",
   "metadata": {},
   "outputs": [],
   "source": [
    "POLICY_RECOMMENDATION_PROMPT = \"\"\"\n",
    "Given the retrieved policy sections for this claim, determine:\n",
    "- If the collision is covered\n",
    "- The applicable deductible\n",
    "- Recommended settlement amount (e.g., cost minus deductible)\n",
    "- Which policy section applies\n",
    "\n",
    "Claim Info:\n",
    "{claim_info}\n",
    "\n",
    "Policy Text:\n",
    "{policy_text}\n",
    "\n",
    "Return a JSON object matching PolicyRecommendation schema.\n",
    "{format_instructions}\n",
    "\"\"\""
   ]
  },
  {
   "cell_type": "markdown",
   "id": "52f28707",
   "metadata": {},
   "source": [
    "## Schema\n",
    "\n",
    "### Define Data Schemas with Pydantic:\n",
    "- Utilize Pydantic's BaseModel to define structured data models for your claim information and policy recommendations."
   ]
  },
  {
   "cell_type": "code",
   "execution_count": 8,
   "id": "4ff921f7",
   "metadata": {},
   "outputs": [],
   "source": [
    "from typing import List, Optional\n",
    "from pydantic import BaseModel, Field\n",
    "\n",
    "class ClaimInfo(BaseModel):\n",
    "    \"\"\"Extracted Insurance claim information.\"\"\"\n",
    "    claim_number: str\n",
    "    policy_number: str\n",
    "    claimant_name: str\n",
    "    date_of_loss: str\n",
    "    loss_description: str\n",
    "    estimated_repair_cost: float\n",
    "    vehicle_details: Optional[str] = None\n",
    "\n",
    "class PolicyQueries(BaseModel):\n",
    "    queries: List[str] = Field(\n",
    "        default_factory=list,\n",
    "        description=\"A list of query strings to retrieve relevant policy sections.\"\n",
    "    )\n",
    "\n",
    "class PolicyRecommendation(BaseModel):\n",
    "    \"\"\"Policy recommendation regarding a given claim.\"\"\"\n",
    "    policy_section: str = Field(..., description=\"The policy section or clause that applies.\")\n",
    "    recommendation_summary: str = Field(..., description=\"A concise summary of coverage determination.\")\n",
    "    deductible: Optional[float] = Field(None, description=\"The applicable deductible amount.\")\n",
    "    settlement_amount: Optional[float] = Field(None, description=\"Recommended settlement payout.\")\n",
    "    \n",
    "class ClaimDecision(BaseModel):\n",
    "    claim_number: str\n",
    "    covered: bool\n",
    "    deductible: float\n",
    "    recommended_payout: float\n",
    "    notes: Optional[str] = None"
   ]
  },
  {
   "cell_type": "markdown",
   "id": "8ed8249a",
   "metadata": {},
   "source": [
    "## LangGraph Components:\n",
    "\n",
    "Set up the graph builder and define the state object to manage shared data across nodes."
   ]
  },
  {
   "cell_type": "code",
   "execution_count": 9,
   "id": "5b8401df",
   "metadata": {},
   "outputs": [],
   "source": [
    "from langgraph.graph import StateGraph, START, END\n",
    "from typing import TypedDict\n",
    "\n",
    "# Define Workflow State and Events\n",
    "class State(TypedDict):\n",
    "    claim_info: ClaimInfo\n",
    "    policy_recommendation: Optional[PolicyRecommendation] = None\n",
    "    policy_text: Optional[str] = None\n",
    "    final_decision : ClaimDecision\n",
    "\n",
    "# Initialize the graph and define state structure\n",
    "graph_builder = StateGraph(State)"
   ]
  },
  {
   "cell_type": "markdown",
   "id": "92db32e8",
   "metadata": {},
   "source": [
    "### Define Node Functions:\n",
    "\n",
    "Implement functions that will serve as nodes in the graph, such as parsing claim data and generating policy recommendations."
   ]
  },
  {
   "cell_type": "code",
   "execution_count": 10,
   "id": "4007f3c7",
   "metadata": {},
   "outputs": [],
   "source": [
    "from langchain_core.output_parsers import JsonOutputParser\n",
    "from langchain_core.prompts import PromptTemplate\n",
    "\n",
    "def parse_claim(state: State):\n",
    "    print('parse_claim')\n",
    "    # Implement claim parsing logic here\n",
    "    # For example, extract claim information from a document\n",
    "    # claim_info = ClaimInfo(\n",
    "    #     claim_number=\"12345\",\n",
    "    #     policy_number=\"POLICY-ABC123\",\n",
    "    #     claimant_name=\"John Doe\",\n",
    "    #     date_of_loss=\"2024-12-15\",\n",
    "    #     loss_description=\"Rear-end collision\",\n",
    "    #     estimated_repair_cost=5000.0,\n",
    "    #     vehicle_details=\"2019 Honda Accord\"\n",
    "    # )\n",
    "    # state['claim_info'] = claim_info\n",
    "    return state\n",
    "\n",
    "def generate_policy_queries(state: State):\n",
    "    print('generate_policy_queries')\n",
    "    # Implement policy query generation logic here\n",
    "    # For example, use LLM to generate queries based on claim info\n",
    "    # queries = [\n",
    "    #     \"Coverage conditions for collision damage.\",\n",
    "    #     \"Deductible conditions.\",\n",
    "    #     \"Any special endorsements for rental coverage or waived deductible scenarios.\"\n",
    "    # ]\n",
    "\n",
    "    # Output parser for the response\n",
    "    output_parser = JsonOutputParser(pydantic_object=PolicyQueries)\n",
    "    # Create a prompt template for insurance-related query\n",
    "    prompt = PromptTemplate(\n",
    "        template=GENERATE_POLICY_QUERIES_PROMPT,\n",
    "        input_variables=[\"claim_info\"],\n",
    "        partial_variables={\"format_instructions\": output_parser.get_format_instructions()},\n",
    "    )\n",
    "    # Chain setup with model and output parser\n",
    "    chain = prompt | llm | output_parser\n",
    "    # Invoke with insurance-related topic\n",
    "    queries = chain.invoke({\"claim_info\": state['claim_info']})\n",
    "    state['policy_queries'] = queries['queries'] \n",
    "    return state\n",
    "\n",
    "def retrieve_policy_text(state: State):\n",
    "    print('retrieve_policy_text')\n",
    "    # Implement policy text retrieval logic here\n",
    "    # For example, use LLM to fetch relevant policy sections\n",
    "    policy_text = get_declarations_docs(state['claim_info']['policy_number'])\n",
    "    # policy_text = \"Sample policy text relevant to the claim.\"\n",
    "    state['policy_text'] = policy_text\n",
    "    return state\n",
    "\n",
    "def generate_recommendation(state: State):\n",
    "    print('generate_recommendation')\n",
    "    # Implement policy recommendation generation logic here\n",
    "    # For example, use LLM to analyze policy text and generate recommendations\n",
    "    # Output parser for the response\n",
    "    output_parser = JsonOutputParser(pydantic_object=PolicyRecommendation)\n",
    "    # Create a prompt template for insurance-related query\n",
    "    prompt = PromptTemplate(\n",
    "        template=POLICY_RECOMMENDATION_PROMPT,\n",
    "        input_variables=[\"claim_info\", \"policy_text\"],\n",
    "        partial_variables={\"format_instructions\": output_parser.get_format_instructions()},\n",
    "    )\n",
    "    # Chain setup with model and output parser\n",
    "    chain = prompt | llm | output_parser\n",
    "    # Invoke with insurance-related topic\n",
    "    recommendation = chain.invoke({\n",
    "        \"claim_info\": ['claim_info'], \n",
    "        \"policy_text\": state['policy_text']\n",
    "    })\n",
    "    recommendation = PolicyRecommendation(\n",
    "        policy_section=\"Collision Coverage\",\n",
    "        recommendation_summary=\"Coverage applicable for rear-end collisions.\",\n",
    "        deductible=500.0,\n",
    "        settlement_amount=4500.0\n",
    "    )\n",
    "    \n",
    "    state['policy_recommendation'] = recommendation\n",
    "    return state\n",
    "\n",
    "def finalize_decision(state: State):\n",
    "    # Implement decision finalization logic here\n",
    "    # For example, determine if the claim is covered and calculate payout\n",
    "    recommendation = state['policy_recommendation']\n",
    "    print(recommendation)\n",
    "    covered = \"covered\" in recommendation.recommendation_summary.lower() or (recommendation.settlement_amount is not None and recommendation.settlement_amount > 0)\n",
    "    deductible = recommendation.deductible if recommendation.deductible is not None else 0.0\n",
    "    recommended_payout = recommendation.settlement_amount if recommendation.settlement_amount else 0.0\n",
    "    decision = {\n",
    "        \"claim_number\": state['claim_info']['claim_number'],\n",
    "        \"covered\": covered,\n",
    "        \"deductible\": deductible,\n",
    "        \"recommended_payout\": recommended_payout,\n",
    "        \"notes\": recommendation.recommendation_summary\n",
    "    }\n",
    "    state['final_decision'] = decision\n",
    "    return state\n"
   ]
  },
  {
   "cell_type": "code",
   "execution_count": 11,
   "id": "d9d71440",
   "metadata": {},
   "outputs": [
    {
     "data": {
      "text/plain": [
       "<langgraph.graph.state.StateGraph at 0x1349244d0>"
      ]
     },
     "execution_count": 11,
     "metadata": {},
     "output_type": "execute_result"
    }
   ],
   "source": [
    "graph_builder.add_node(\"parse_claim\", parse_claim)\n",
    "graph_builder.add_node(\"generate_policy_queries\", generate_policy_queries)\n",
    "graph_builder.add_node(\"retrieve_policy_text\", retrieve_policy_text)\n",
    "graph_builder.add_node(\"generate_recommendation\", generate_recommendation)\n",
    "graph_builder.add_node(\"finalize_decision\", finalize_decision)"
   ]
  },
  {
   "cell_type": "markdown",
   "id": "d502f01c",
   "metadata": {},
   "source": [
    "### Define Workflow Edges:\n",
    "Specify the flow of data between nodes using edges."
   ]
  },
  {
   "cell_type": "code",
   "execution_count": 12,
   "id": "46cafa44",
   "metadata": {},
   "outputs": [
    {
     "data": {
      "text/plain": [
       "<langgraph.graph.state.StateGraph at 0x1349244d0>"
      ]
     },
     "execution_count": 12,
     "metadata": {},
     "output_type": "execute_result"
    }
   ],
   "source": [
    "graph_builder.add_edge(START, \"parse_claim\")\n",
    "graph_builder.add_edge(\"parse_claim\", \"generate_policy_queries\")\n",
    "graph_builder.add_edge(\"generate_policy_queries\", \"retrieve_policy_text\")\n",
    "graph_builder.add_edge(\"retrieve_policy_text\", \"generate_recommendation\")\n",
    "graph_builder.add_edge(\"generate_recommendation\", \"finalize_decision\")\n",
    "graph_builder.add_edge(\"finalize_decision\", END)"
   ]
  },
  {
   "cell_type": "markdown",
   "id": "a754afe4",
   "metadata": {},
   "source": [
    "### Compile and Execute the Workflow:\n",
    "\n",
    "Compile the graph and execute it to process a sample claim."
   ]
  },
  {
   "cell_type": "code",
   "execution_count": 13,
   "id": "4d956aa5",
   "metadata": {},
   "outputs": [
    {
     "data": {
      "image/png": "[encoded data removed]",
      "text/plain": [
       "<IPython.core.display.Image object>"
      ]
     },
     "metadata": {},
     "output_type": "display_data"
    }
   ],
   "source": [
    "from IPython.display import Image, display\n",
    "\n",
    "# Compile the graph\n",
    "graph = graph_builder.compile()\n",
    "display(Image(graph.get_graph().draw_mermaid_png()))"
   ]
  },
  {
   "cell_type": "code",
   "execution_count": 14,
   "id": "c2cfaec9",
   "metadata": {},
   "outputs": [],
   "source": [
    "# Sample input data\n",
    "sample_claim = {\n",
    "    \"claim_number\": \"12345\",\n",
    "    \"policy_number\": \"POLICY-ABC123\",\n",
    "    \"claimant_name\": \"John Doe\",\n",
    "    \"date_of_loss\": \"2024-12-15\",\n",
    "    \"loss_description\": \"Rear-end collision\",\n",
    "    \"estimated_repair_cost\": 5000.0,\n",
    "    \"vehicle_details\": \"2019 Honda Accord\"\n",
    "}\n",
    "\n",
    "# Define Workflow State and Events\n",
    "# class State(TypedDict):\n",
    "#     claim_info: ClaimInfo\n",
    "#     policy_recommendation: Optional[PolicyRecommendation] = None\n",
    "#     policy_text: Optional[str] = None\n",
    "#     final_decision : ClaimDecision"
   ]
  },
  {
   "cell_type": "code",
   "execution_count": 15,
   "id": "8cd5c69c",
   "metadata": {},
   "outputs": [
    {
     "name": "stdout",
     "output_type": "stream",
     "text": [
      "parse_claim\n",
      "generate_policy_queries\n",
      "retrieve_policy_text\n",
      "generate_recommendation\n",
      "policy_section='Collision Coverage' recommendation_summary='Coverage applicable for rear-end collisions.' deductible=500.0 settlement_amount=4500.0\n"
     ]
    }
   ],
   "source": [
    "# Run the workflow\n",
    "state = graph.invoke({\"claim_info\" : sample_claim})"
   ]
  },
  {
   "cell_type": "code",
   "execution_count": 16,
   "id": "79ee9e1a",
   "metadata": {},
   "outputs": [
    {
     "data": {
      "text/plain": [
       "{'claim_number': '12345',\n",
       " 'policy_number': 'POLICY-ABC123',\n",
       " 'claimant_name': 'John Doe',\n",
       " 'date_of_loss': '2024-12-15',\n",
       " 'loss_description': 'Rear-end collision',\n",
       " 'estimated_repair_cost': 5000.0,\n",
       " 'vehicle_details': '2019 Honda Accord'}"
      ]
     },
     "execution_count": 16,
     "metadata": {},
     "output_type": "execute_result"
    }
   ],
   "source": [
    "state['claim_info']"
   ]
  },
  {
   "cell_type": "code",
   "execution_count": 17,
   "id": "ea97d2b1",
   "metadata": {},
   "outputs": [
    {
     "data": {
      "text/plain": [
       "PolicyRecommendation(policy_section='Collision Coverage', recommendation_summary='Coverage applicable for rear-end collisions.', deductible=500.0, settlement_amount=4500.0)"
      ]
     },
     "execution_count": 17,
     "metadata": {},
     "output_type": "execute_result"
    }
   ],
   "source": [
    "state['policy_recommendation']"
   ]
  },
  {
   "cell_type": "code",
   "execution_count": 18,
   "id": "eb35f0d7",
   "metadata": {},
   "outputs": [
    {
     "data": {
      "text/plain": [
       "{'claim_number': '12345',\n",
       " 'covered': True,\n",
       " 'deductible': 500.0,\n",
       " 'recommended_payout': 4500.0,\n",
       " 'notes': 'Coverage applicable for rear-end collisions.'}"
      ]
     },
     "execution_count": 18,
     "metadata": {},
     "output_type": "execute_result"
    }
   ],
   "source": [
    "state['final_decision']"
   ]
  }
 ],
 "metadata": {
  "kernelspec": {
   "display_name": "Python 3 (ipykernel)",
   "language": "python",
   "name": "python3"
  },
  "language_info": {
   "codemirror_mode": {
    "name": "ipython",
    "version": 3
   },
   "file_extension": ".py",
   "mimetype": "text/x-python",
   "name": "python",
   "nbconvert_exporter": "python",
   "pygments_lexer": "ipython3",
   "version": "3.11.10"
  }
 },
 "nbformat": 4,
 "nbformat_minor": 5
}
